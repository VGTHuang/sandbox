{
 "metadata": {
  "language_info": {
   "codemirror_mode": {
    "name": "ipython",
    "version": 3
   },
   "file_extension": ".py",
   "mimetype": "text/x-python",
   "name": "python",
   "nbconvert_exporter": "python",
   "pygments_lexer": "ipython3",
   "version": "3.7.10"
  },
  "orig_nbformat": 2,
  "kernelspec": {
   "name": "hhx_work",
   "display_name": "Python 3.7.10 64-bit ('hhx_work': conda)"
  }
 },
 "nbformat": 4,
 "nbformat_minor": 2,
 "cells": [
  {
   "cell_type": "code",
   "execution_count": 1,
   "source": [
    "import numpy as np\r\n",
    "\r\n",
    "import torch\r\n",
    "import torch.nn as nn\r\n",
    "import torch.nn.functional as F\r\n",
    "from torchvision import datasets\r\n",
    "import torchvision.transforms as transforms\r\n",
    "\r\n",
    "import matplotlib.pyplot as plt\r\n",
    "import matplotlib.gridspec as gridspec\r\n",
    "\r\n",
    "import math\r\n",
    "import methods\r\n",
    "import itertools"
   ],
   "outputs": [],
   "metadata": {}
  },
  {
   "cell_type": "code",
   "execution_count": 2,
   "source": [
    "device = 'cuda' if torch.cuda.is_available() else 'cpu'\r\n",
    "\r\n",
    "kwargs = {'num_workers': 1, 'pin_memory': True} if device=='cuda' else {}"
   ],
   "outputs": [],
   "metadata": {}
  },
  {
   "cell_type": "code",
   "execution_count": 3,
   "source": [
    "transform = transforms.Compose( [transforms.ToTensor(), transforms.Normalize((0.5, 0.5, 0.5), (0.5, 0.5, 0.5)), transforms.RandomHorizontalFlip(p=0.5)] )\r\n",
    "\r\n",
    "cifar_train_set = datasets.CIFAR10(root='./data', train=True, download=True, transform=transform)\r\n",
    "cifar_test_set = datasets.CIFAR10(root='./data', train=True, download=False, transform=transform)"
   ],
   "outputs": [
    {
     "output_type": "stream",
     "name": "stdout",
     "text": [
      "Files already downloaded and verified\n"
     ]
    }
   ],
   "metadata": {}
  },
  {
   "cell_type": "code",
   "execution_count": 4,
   "source": [
    "classes = ('plane', 'car', 'bird', 'cat',\r\n",
    "           'deer', 'dog', 'frog', 'horse', 'ship', 'truck')"
   ],
   "outputs": [],
   "metadata": {}
  },
  {
   "cell_type": "code",
   "execution_count": 5,
   "source": [
    "batch_size = 64"
   ],
   "outputs": [],
   "metadata": {}
  },
  {
   "cell_type": "code",
   "execution_count": 6,
   "source": [
    "train_loader = torch.utils.data.DataLoader(cifar_train_set, batch_size=batch_size, shuffle=True)"
   ],
   "outputs": [],
   "metadata": {}
  },
  {
   "cell_type": "code",
   "execution_count": 7,
   "source": [
    "def gen_rand_imgs(shape):\r\n",
    "  return torch.rand(shape)"
   ],
   "outputs": [],
   "metadata": {}
  },
  {
   "cell_type": "code",
   "execution_count": 119,
   "source": [
    "class Discriminator(nn.Module):\r\n",
    "  def __init__(self):\r\n",
    "    super(Discriminator, self).__init__()\r\n",
    "    # self.seq1 = self._gen_sequence(3, 16)\r\n",
    "    self.fc1 = nn.Linear(3*32*32, 256)\r\n",
    "    self.fc2 = nn.Linear(256, 1)\r\n",
    "\r\n",
    "  def _gen_sequence(self, in_channels, out_channels):\r\n",
    "    return nn.Sequential(\r\n",
    "      nn.Conv2d(in_channels, out_channels, 3, padding=1),\r\n",
    "      nn.BatchNorm2d(out_channels),\r\n",
    "      nn.LeakyReLU(),\r\n",
    "      nn.MaxPool2d(2)\r\n",
    "    )\r\n",
    "\r\n",
    "  def forward(self, x):\r\n",
    "    batch = x.shape[0]\r\n",
    "    # x = self.seq1(x)\r\n",
    "    x = x.reshape(batch, -1)\r\n",
    "    x = F.leaky_relu(self.fc1(x))\r\n",
    "    x = F.leaky_relu(self.fc2(x))\r\n",
    "    x = torch.sigmoid(x)\r\n",
    "    return x.flatten()"
   ],
   "outputs": [],
   "metadata": {}
  },
  {
   "cell_type": "code",
   "execution_count": 120,
   "source": [
    "class Generator(nn.Module):\r\n",
    "  def __init__(self):\r\n",
    "    super(Generator, self).__init__()\r\n",
    "    self.fc1 = nn.Linear(100, 16*4*4)\r\n",
    "    self.seq1 = self._gen_sequence(16, 32)\r\n",
    "    self.seq2 = self._gen_sequence(32, 32)\r\n",
    "    self.seq3 = self._gen_sequence(32, 16)\r\n",
    "    self.fin_conv = nn.Conv2d(16, 3, 3, padding=1)\r\n",
    "\r\n",
    "  \r\n",
    "  def _gen_sequence(self, in_channels, out_channels):\r\n",
    "    return nn.Sequential(\r\n",
    "      nn.Conv2d(in_channels, out_channels, 3, padding=1),\r\n",
    "      nn.BatchNorm2d(out_channels),\r\n",
    "      nn.Upsample(scale_factor=2)\r\n",
    "    )\r\n",
    "\r\n",
    "  def forward(self, x):\r\n",
    "    x = F.leaky_relu(self.fc1(x))\r\n",
    "    x = x.reshape(-1, 16, 4, 4)\r\n",
    "    x = F.leaky_relu(self.seq1(x))\r\n",
    "    x = F.leaky_relu(self.seq2(x))\r\n",
    "    x = F.leaky_relu(self.seq3(x))\r\n",
    "    x = F.leaky_relu(self.fin_conv(x))\r\n",
    "    return x"
   ],
   "outputs": [],
   "metadata": {}
  },
  {
   "cell_type": "code",
   "execution_count": 121,
   "source": [
    "def set_model_freeze(model, freeze=True):\r\n",
    "  for key, value in model.named_parameters():\r\n",
    "    value.requires_grad = freeze"
   ],
   "outputs": [],
   "metadata": {}
  },
  {
   "cell_type": "code",
   "execution_count": 122,
   "source": [
    "g_net = Generator()\r\n",
    "d_net = Discriminator()\r\n",
    "\r\n",
    "if device == 'cuda':\r\n",
    "    g_net = g_net.cuda()\r\n",
    "    d_net = d_net.cuda()"
   ],
   "outputs": [],
   "metadata": {}
  },
  {
   "cell_type": "markdown",
   "source": [
    "# train discriminator"
   ],
   "metadata": {}
  },
  {
   "cell_type": "code",
   "execution_count": 123,
   "source": [
    "epoch_num = 100\r\n",
    "criterion = nn.BCELoss()\r\n",
    "d_lr = 1e-4\r\n",
    "g_lr = 1e-4\r\n",
    "d_optimizer = torch.optim.Adam(d_net.parameters(), lr = d_lr)\r\n",
    "g_optimizer = torch.optim.Adam(g_net.parameters(), lr = g_lr)\r\n",
    "\r\n",
    "all_ones = torch.ones(batch_size, dtype=torch.float32).to(device)\r\n",
    "all_zeros = torch.zeros(batch_size, dtype=torch.float32).to(device)"
   ],
   "outputs": [],
   "metadata": {}
  },
  {
   "cell_type": "code",
   "execution_count": 124,
   "source": [
    "# set_model_freeze(g_net, True)"
   ],
   "outputs": [],
   "metadata": {}
  },
  {
   "cell_type": "code",
   "execution_count": 125,
   "source": [
    "test_real_imgs = None\r\n",
    "for _, imgs in enumerate(train_loader):\r\n",
    "  test_real_imgs = imgs[0]\r\n",
    "  break"
   ],
   "outputs": [],
   "metadata": {}
  },
  {
   "cell_type": "code",
   "execution_count": 126,
   "source": [
    "def gen_real_fake_batch(real_imgs):\r\n",
    "  fake_imgs = gen_rand_imgs([real_imgs.shape[0], 100])\r\n",
    "\r\n",
    "  real_imgs = real_imgs.to(device)\r\n",
    "  fake_imgs = fake_imgs.to(device)\r\n",
    "\r\n",
    "  fake_out = torch.sigmoid(g_net(fake_imgs))\r\n",
    "\r\n",
    "  return real_imgs, fake_out"
   ],
   "outputs": [],
   "metadata": {}
  },
  {
   "cell_type": "code",
   "execution_count": 127,
   "source": [
    "def test_discriminator_accuracy():\r\n",
    "  d_net.eval()\r\n",
    "  g_net.eval()\r\n",
    "  ri, fi = gen_real_fake_batch(test_real_imgs)\r\n",
    "  ro = d_net(ri)\r\n",
    "  fo = d_net(fi)\r\n",
    "  # print(ro[:10], fo[:10])\r\n",
    "  ro = torch.round(ro)\r\n",
    "  fo = torch.round(fo)\r\n",
    "  d_net.train()\r\n",
    "  g_net.train()\r\n",
    "  print('real: ', torch.sum(ro == all_ones).item(), 'fake: ', torch.sum(fo == all_zeros).item())\r\n",
    "  return (torch.sum(ro == all_ones) + torch.sum(fo == all_zeros)).item() / (test_real_imgs.shape[0]*2)"
   ],
   "outputs": [],
   "metadata": {}
  },
  {
   "cell_type": "code",
   "execution_count": 128,
   "source": [
    "def test_generator_efficiency():\r\n",
    "  d_net.eval()\r\n",
    "  g_net.eval()\r\n",
    "  zz = gen_rand_imgs([batch_size, 100]).to(device)\r\n",
    "  fake_imgs = torch.sigmoid(g_net(zz))\r\n",
    "  fake_preds = d_net(fake_imgs)\r\n",
    "\r\n",
    "  fake_preds = torch.round(fake_preds)\r\n",
    "  d_net.train()\r\n",
    "  g_net.train()\r\n",
    "  return torch.sum(fake_preds == all_ones).item() / 64"
   ],
   "outputs": [],
   "metadata": {}
  },
  {
   "cell_type": "code",
   "execution_count": 129,
   "source": [
    "test_discriminator_accuracy()"
   ],
   "outputs": [
    {
     "output_type": "stream",
     "name": "stdout",
     "text": [
      "real:  21 fake:  0\n"
     ]
    },
    {
     "output_type": "execute_result",
     "data": {
      "text/plain": [
       "0.1640625"
      ]
     },
     "metadata": {},
     "execution_count": 129
    }
   ],
   "metadata": {}
  },
  {
   "cell_type": "code",
   "execution_count": 130,
   "source": [
    "test_generator_efficiency()"
   ],
   "outputs": [
    {
     "output_type": "execute_result",
     "data": {
      "text/plain": [
       "1.0"
      ]
     },
     "metadata": {},
     "execution_count": 130
    }
   ],
   "metadata": {}
  },
  {
   "cell_type": "code",
   "execution_count": 131,
   "source": [
    "def get_norm_loss(input):\r\n",
    "  input_f = input.reshape(input.shape[0], -1)\r\n",
    "  return torch.mean(torch.norm(input_f, dim=1) / input_f.shape[0])\r\n"
   ],
   "outputs": [],
   "metadata": {}
  },
  {
   "cell_type": "code",
   "execution_count": 132,
   "source": [
    "def show_example():\r\n",
    "  a = torch.rand([1, 100]).to(device)\r\n",
    "  b = torch.sigmoid(g_net(a))\r\n",
    "  b = torch.sigmoid(b)\r\n",
    "  b_np = b[0].permute(1,2,0).cpu().detach().numpy()\r\n",
    "  plt.imshow(b_np)\r\n",
    "  plt.show()"
   ],
   "outputs": [],
   "metadata": {}
  },
  {
   "cell_type": "code",
   "execution_count": 133,
   "source": [
    "show_example()"
   ],
   "outputs": [
    {
     "output_type": "display_data",
     "data": {
      "text/plain": [
       "<Figure size 432x288 with 1 Axes>"
      ],
      "image/png": "[encoded data removed]"
     },
     "metadata": {
      "needs_background": "light"
     }
    }
   ],
   "metadata": {}
  },
  {
   "cell_type": "code",
   "execution_count": 134,
   "source": [
    "a = torch.rand([1, 100]).to(device)\r\n",
    "b = torch.sigmoid(g_net(a))\r\n",
    "b = torch.sigmoid(b)\r\n",
    "c = d_net(b)\r\n",
    "c"
   ],
   "outputs": [
    {
     "output_type": "execute_result",
     "data": {
      "text/plain": [
       "tensor([0.5556], device='cuda:0', grad_fn=<ViewBackward>)"
      ]
     },
     "metadata": {},
     "execution_count": 134
    }
   ],
   "metadata": {}
  },
  {
   "cell_type": "code",
   "execution_count": 136,
   "source": [
    "count = 0\r\n",
    "\r\n",
    "for epoch in range(1, epoch_num+1):\r\n",
    "  for batch_idx, (real_images, _) in enumerate(train_loader):\r\n",
    "    count += 1\r\n",
    "    if real_images.shape[0] != batch_size:\r\n",
    "      continue\r\n",
    "\r\n",
    "    ri, fi = gen_real_fake_batch(real_images)\r\n",
    "\r\n",
    "    if count % 100 == 0:\r\n",
    "      # 1a. train discriminator (0/1) using real images\r\n",
    "      d_optimizer.zero_grad()\r\n",
    "      dis_real_oupt = d_net(ri)  # [0, 1]\r\n",
    "      dis_real_loss = criterion(dis_real_oupt.squeeze(), all_ones)\r\n",
    "\r\n",
    "      # 1b. train discriminator using fake images\r\n",
    "      dis_fake_oupt = d_net(fi)\r\n",
    "      dis_fake_loss = criterion(dis_fake_oupt.squeeze(), all_zeros)\r\n",
    "      dis_loss_tot = dis_real_loss + dis_fake_loss\r\n",
    "\r\n",
    "      dis_loss_tot.backward()\r\n",
    "      d_optimizer.step()\r\n",
    "\r\n",
    "    # 2. train gen with fake images and flipped labels\r\n",
    "    g_optimizer.zero_grad()\r\n",
    "    zz = gen_rand_imgs([batch_size, 100]).to(device)\r\n",
    "    fake_images = g_net(zz)\r\n",
    "    # norm_loss = get_norm_loss(fake_images)\r\n",
    "    fake_images = torch.sigmoid(fake_images)\r\n",
    "    dis_fake_oupt = d_net(fake_images)\r\n",
    "    gen_loss = criterion(dis_fake_oupt.squeeze(), all_ones)\r\n",
    "    # gen_loss += 0.0005 * norm_loss\r\n",
    "\r\n",
    "    gen_loss.backward()\r\n",
    "    g_optimizer.step()\r\n",
    "\r\n",
    "    if count % 100 == 0:\r\n",
    "\r\n",
    "      test_d_acc = test_discriminator_accuracy()\r\n",
    "      test_g_eff = test_generator_efficiency()\r\n",
    "      print('d:', test_d_acc, '  g:', test_g_eff, '   gl:', gen_loss.item())\r\n",
    "\r\n",
    "  test_d_acc = test_discriminator_accuracy()\r\n",
    "  test_g_eff = test_generator_efficiency()\r\n",
    "  print('e: ', epoch, '@@@@@@@@@@ d:', test_d_acc, '  g:', test_g_eff)\r\n",
    "  show_example()\r\n",
    "\r\n",
    "print('complete')"
   ],
   "outputs": [
    {
     "output_type": "stream",
     "name": "stdout",
     "text": [
      "real:  62 fake:  64\n",
      "d: 0.984375   g: 0.0    gl: 1.559274435043335\n",
      "real:  62 fake:  64\n",
      "d: 0.984375   g: 0.0    gl: 1.2227623462677002\n",
      "real:  62 fake:  64\n",
      "d: 0.984375   g: 0.0    gl: 1.1496741771697998\n",
      "real:  62 fake:  64\n",
      "d: 0.984375   g: 0.0    gl: 1.138135313987732\n",
      "real:  62 fake:  64\n",
      "d: 0.984375   g: 0.0    gl: 1.1508454084396362\n",
      "real:  62 fake:  64\n",
      "d: 0.984375   g: 0.0    gl: 1.180722713470459\n",
      "real:  62 fake:  64\n",
      "d: 0.984375   g: 0.0    gl: 1.2229453325271606\n",
      "real:  62 fake:  64\n",
      "e:  1 @@@@@@@@@@ d: 0.984375   g: 0.0\n"
     ]
    },
    {
     "output_type": "display_data",
     "data": {
      "text/plain": [
       "<Figure size 432x288 with 1 Axes>"
      ],
      "image/png": "[encoded data removed]"
     },
     "metadata": {
      "needs_background": "light"
     }
    },
    {
     "output_type": "stream",
     "name": "stdout",
     "text": [
      "real:  62 fake:  64\n",
      "d: 0.984375   g: 0.0    gl: 1.2751916646957397\n",
      "real:  62 fake:  64\n",
      "d: 0.984375   g: 0.0    gl: 1.3346929550170898\n",
      "real:  62 fake:  64\n",
      "d: 0.984375   g: 0.0    gl: 1.399035930633545\n",
      "real:  62 fake:  64\n",
      "d: 0.984375   g: 0.0    gl: 1.4670484066009521\n",
      "real:  62 fake:  64\n",
      "d: 0.984375   g: 0.0    gl: 1.536546230316162\n",
      "real:  62 fake:  64\n",
      "d: 0.984375   g: 0.0    gl: 1.6081098318099976\n",
      "real:  62 fake:  64\n",
      "d: 0.984375   g: 0.0    gl: 1.6800602674484253\n",
      "real:  62 fake:  64\n",
      "d: 0.984375   g: 0.0    gl: 1.7507834434509277\n",
      "real:  62 fake:  64\n",
      "e:  2 @@@@@@@@@@ d: 0.984375   g: 0.0\n"
     ]
    },
    {
     "output_type": "display_data",
     "data": {
      "text/plain": [
       "<Figure size 432x288 with 1 Axes>"
      ],
      "image/png": "[encoded data removed]"
     },
     "metadata": {
      "needs_background": "light"
     }
    },
    {
     "output_type": "stream",
     "name": "stdout",
     "text": [
      "real:  62 fake:  64\n",
      "d: 0.984375   g: 0.0    gl: 1.8208527565002441\n",
      "real:  62 fake:  64\n",
      "d: 0.984375   g: 0.0    gl: 1.8888611793518066\n",
      "real:  62 fake:  64\n",
      "d: 0.984375   g: 0.0    gl: 1.9526302814483643\n",
      "real:  62 fake:  64\n",
      "d: 0.984375   g: 0.0    gl: 2.01230525970459\n",
      "real:  62 fake:  64\n",
      "d: 0.984375   g: 0.0    gl: 2.068793296813965\n",
      "real:  62 fake:  64\n",
      "d: 0.984375   g: 0.0    gl: 2.1205689907073975\n",
      "real:  62 fake:  64\n",
      "d: 0.984375   g: 0.0    gl: 2.167602062225342\n",
      "real:  62 fake:  64\n",
      "d: 0.984375   g: 0.0    gl: 2.210675001144409\n",
      "real:  62 fake:  64\n",
      "e:  3 @@@@@@@@@@ d: 0.984375   g: 0.0\n"
     ]
    },
    {
     "output_type": "display_data",
     "data": {
      "text/plain": [
       "<Figure size 432x288 with 1 Axes>"
      ],
      "image/png": "[encoded data removed]"
     },
     "metadata": {
      "needs_background": "light"
     }
    },
    {
     "output_type": "stream",
     "name": "stdout",
     "text": [
      "real:  62 fake:  64\n",
      "d: 0.984375   g: 0.0    gl: 2.250537157058716\n",
      "real:  61 fake:  64\n",
      "d: 0.9765625   g: 0.0    gl: 2.2859692573547363\n",
      "real:  61 fake:  64\n",
      "d: 0.9765625   g: 0.0    gl: 2.3169283866882324\n",
      "real:  61 fake:  64\n",
      "d: 0.9765625   g: 0.0    gl: 2.332756519317627\n",
      "real:  61 fake:  64\n",
      "d: 0.9765625   g: 0.0    gl: 2.341484308242798\n",
      "real:  61 fake:  64\n",
      "d: 0.9765625   g: 0.0    gl: 2.3516626358032227\n",
      "real:  60 fake:  64\n",
      "d: 0.96875   g: 0.0    gl: 2.3610146045684814\n",
      "real:  60 fake:  64\n",
      "d: 0.96875   g: 0.0    gl: 2.369903564453125\n",
      "real:  60 fake:  64\n",
      "e:  4 @@@@@@@@@@ d: 0.96875   g: 0.0\n"
     ]
    },
    {
     "output_type": "display_data",
     "data": {
      "text/plain": [
       "<Figure size 432x288 with 1 Axes>"
      ],
      "image/png": "[encoded data removed]"
     },
     "metadata": {
      "needs_background": "light"
     }
    },
    {
     "output_type": "stream",
     "name": "stdout",
     "text": [
      "real:  60 fake:  64\n",
      "d: 0.96875   g: 0.0    gl: 2.3776941299438477\n",
      "real:  60 fake:  64\n",
      "d: 0.96875   g: 0.0    gl: 2.3832411766052246\n",
      "real:  60 fake:  64\n",
      "d: 0.96875   g: 0.0    gl: 2.389364719390869\n",
      "real:  60 fake:  64\n",
      "d: 0.96875   g: 0.0    gl: 2.395315408706665\n",
      "real:  60 fake:  64\n",
      "d: 0.96875   g: 0.0    gl: 2.4007747173309326\n",
      "real:  60 fake:  64\n",
      "d: 0.96875   g: 0.0    gl: 2.4054744243621826\n",
      "real:  59 fake:  64\n",
      "d: 0.9609375   g: 0.0    gl: 2.408398151397705\n",
      "real:  59 fake:  64\n",
      "d: 0.9609375   g: 0.0    gl: 2.4105963706970215\n",
      "real:  59 fake:  64\n",
      "e:  5 @@@@@@@@@@ d: 0.9609375   g: 0.0\n"
     ]
    },
    {
     "output_type": "display_data",
     "data": {
      "text/plain": [
       "<Figure size 432x288 with 1 Axes>"
      ],
      "image/png": "[encoded data removed]"
     },
     "metadata": {
      "needs_background": "light"
     }
    },
    {
     "output_type": "stream",
     "name": "stdout",
     "text": [
      "real:  59 fake:  64\n",
      "d: 0.9609375   g: 0.0    gl: 2.410646438598633\n",
      "real:  59 fake:  64\n",
      "d: 0.9609375   g: 0.0    gl: 2.406099319458008\n",
      "real:  59 fake:  64\n",
      "d: 0.9609375   g: 0.0    gl: 2.399702310562134\n",
      "real:  59 fake:  64\n",
      "d: 0.9609375   g: 0.0    gl: 2.393218517303467\n",
      "real:  59 fake:  64\n",
      "d: 0.9609375   g: 0.0    gl: 2.3855061531066895\n",
      "real:  58 fake:  64\n",
      "d: 0.953125   g: 0.0    gl: 2.37847900390625\n",
      "real:  58 fake:  64\n",
      "d: 0.953125   g: 0.0    gl: 2.371516704559326\n",
      "real:  58 fake:  64\n",
      "e:  6 @@@@@@@@@@ d: 0.953125   g: 0.0\n"
     ]
    },
    {
     "output_type": "display_data",
     "data": {
      "text/plain": [
       "<Figure size 432x288 with 1 Axes>"
      ],
      "image/png": "[encoded data removed]"
     },
     "metadata": {
      "needs_background": "light"
     }
    },
    {
     "output_type": "stream",
     "name": "stdout",
     "text": [
      "real:  58 fake:  64\n",
      "d: 0.953125   g: 0.0    gl: 2.3659229278564453\n",
      "real:  58 fake:  64\n",
      "d: 0.953125   g: 0.0    gl: 2.3601438999176025\n",
      "real:  58 fake:  64\n",
      "d: 0.953125   g: 0.0    gl: 2.3547191619873047\n",
      "real:  58 fake:  64\n",
      "d: 0.953125   g: 0.0    gl: 2.3498833179473877\n",
      "real:  58 fake:  64\n",
      "d: 0.953125   g: 0.0    gl: 2.3431434631347656\n",
      "real:  57 fake:  64\n",
      "d: 0.9453125   g: 0.0    gl: 2.333350658416748\n",
      "real:  57 fake:  64\n",
      "d: 0.9453125   g: 0.0    gl: 2.324150323867798\n",
      "real:  57 fake:  64\n",
      "d: 0.9453125   g: 0.0    gl: 2.315333843231201\n",
      "real:  57 fake:  64\n",
      "e:  7 @@@@@@@@@@ d: 0.9453125   g: 0.0\n"
     ]
    },
    {
     "output_type": "display_data",
     "data": {
      "text/plain": [
       "<Figure size 432x288 with 1 Axes>"
      ],
      "image/png": "[encoded data removed]"
     },
     "metadata": {
      "needs_background": "light"
     }
    },
    {
     "output_type": "stream",
     "name": "stdout",
     "text": [
      "real:  57 fake:  64\n",
      "d: 0.9453125   g: 0.0    gl: 2.3071300983428955\n",
      "real:  57 fake:  64\n",
      "d: 0.9453125   g: 0.0    gl: 2.2964930534362793\n",
      "real:  57 fake:  64\n",
      "d: 0.9453125   g: 0.0    gl: 2.279348134994507\n",
      "real:  57 fake:  64\n",
      "d: 0.9453125   g: 0.0    gl: 2.2607293128967285\n",
      "real:  57 fake:  64\n",
      "d: 0.9453125   g: 0.0    gl: 2.2417409420013428\n",
      "real:  57 fake:  64\n",
      "d: 0.9453125   g: 0.0    gl: 2.2205796241760254\n",
      "real:  57 fake:  64\n",
      "d: 0.9453125   g: 0.0    gl: 2.2010326385498047\n",
      "real:  57 fake:  64\n",
      "d: 0.9453125   g: 0.0    gl: 2.180370807647705\n",
      "real:  57 fake:  64\n",
      "e:  8 @@@@@@@@@@ d: 0.9453125   g: 0.0\n"
     ]
    },
    {
     "output_type": "display_data",
     "data": {
      "text/plain": [
       "<Figure size 432x288 with 1 Axes>"
      ],
      "image/png": "[encoded data removed]"
     },
     "metadata": {
      "needs_background": "light"
     }
    },
    {
     "output_type": "stream",
     "name": "stdout",
     "text": [
      "real:  57 fake:  64\n",
      "d: 0.9453125   g: 0.0    gl: 2.160026788711548\n",
      "real:  57 fake:  64\n",
      "d: 0.9453125   g: 0.0    gl: 2.1376774311065674\n",
      "real:  57 fake:  64\n",
      "d: 0.9453125   g: 0.0    gl: 2.109560489654541\n",
      "real:  57 fake:  64\n",
      "d: 0.9453125   g: 0.0    gl: 2.074450969696045\n",
      "real:  56 fake:  64\n",
      "d: 0.9375   g: 0.0    gl: 2.0239949226379395\n",
      "real:  56 fake:  64\n",
      "d: 0.9375   g: 0.0    gl: 1.976102590560913\n",
      "real:  56 fake:  64\n",
      "d: 0.9375   g: 0.0    gl: 1.9309747219085693\n",
      "real:  56 fake:  64\n",
      "d: 0.9375   g: 0.0    gl: 1.890181303024292\n",
      "real:  56 fake:  64\n",
      "e:  9 @@@@@@@@@@ d: 0.9375   g: 0.0\n"
     ]
    },
    {
     "output_type": "display_data",
     "data": {
      "text/plain": [
       "<Figure size 432x288 with 1 Axes>"
      ],
      "image/png": "[encoded data removed]"
     },
     "metadata": {
      "needs_background": "light"
     }
    },
    {
     "output_type": "stream",
     "name": "stdout",
     "text": [
      "real:  56 fake:  64\n",
      "d: 0.9375   g: 0.0    gl: 1.8539848327636719\n",
      "real:  56 fake:  64\n",
      "d: 0.9375   g: 0.0    gl: 1.8188703060150146\n",
      "real:  56 fake:  64\n",
      "d: 0.9375   g: 0.0    gl: 1.7863397598266602\n",
      "real:  56 fake:  64\n",
      "d: 0.9375   g: 0.0    gl: 1.7550793886184692\n",
      "real:  56 fake:  64\n",
      "d: 0.9375   g: 0.0    gl: 1.7238245010375977\n",
      "real:  56 fake:  64\n",
      "d: 0.9375   g: 0.0    gl: 1.6959865093231201\n",
      "real:  56 fake:  64\n",
      "d: 0.9375   g: 0.0    gl: 1.6708848476409912\n",
      "real:  56 fake:  64\n",
      "d: 0.9375   g: 0.0    gl: 1.6490263938903809\n",
      "real:  56 fake:  64\n",
      "e:  10 @@@@@@@@@@ d: 0.9375   g: 0.0\n"
     ]
    },
    {
     "output_type": "display_data",
     "data": {
      "text/plain": [
       "<Figure size 432x288 with 1 Axes>"
      ],
      "image/png": "[encoded data removed]"
     },
     "metadata": {
      "needs_background": "light"
     }
    },
    {
     "output_type": "stream",
     "name": "stdout",
     "text": [
      "real:  56 fake:  64\n",
      "d: 0.9375   g: 0.0    gl: 1.6298487186431885\n",
      "real:  55 fake:  64\n",
      "d: 0.9296875   g: 0.0    gl: 1.6078572273254395\n",
      "real:  55 fake:  64\n",
      "d: 0.9296875   g: 0.0    gl: 1.588782548904419\n",
      "real:  55 fake:  64\n",
      "d: 0.9296875   g: 0.0    gl: 1.5720841884613037\n",
      "real:  55 fake:  64\n",
      "d: 0.9296875   g: 0.0    gl: 1.5576893091201782\n",
      "real:  55 fake:  64\n",
      "d: 0.9296875   g: 0.0    gl: 1.545021653175354\n",
      "real:  54 fake:  64\n",
      "d: 0.921875   g: 0.0    gl: 1.5264451503753662\n",
      "real:  54 fake:  64\n",
      "d: 0.921875   g: 0.0    gl: 1.5155954360961914\n",
      "real:  54 fake:  64\n",
      "e:  11 @@@@@@@@@@ d: 0.921875   g: 0.0\n"
     ]
    },
    {
     "output_type": "display_data",
     "data": {
      "text/plain": [
       "<Figure size 432x288 with 1 Axes>"
      ],
      "image/png": "[encoded data removed]"
     },
     "metadata": {
      "needs_background": "light"
     }
    },
    {
     "output_type": "stream",
     "name": "stdout",
     "text": [
      "real:  54 fake:  64\n",
      "d: 0.921875   g: 0.0    gl: 1.506617784500122\n",
      "real:  54 fake:  64\n",
      "d: 0.921875   g: 0.0    gl: 1.4936153888702393\n",
      "real:  54 fake:  64\n",
      "d: 0.921875   g: 0.0    gl: 1.480821967124939\n",
      "real:  54 fake:  64\n",
      "d: 0.921875   g: 0.0    gl: 1.4694339036941528\n",
      "real:  54 fake:  64\n",
      "d: 0.921875   g: 0.0    gl: 1.4592176675796509\n",
      "real:  54 fake:  64\n",
      "d: 0.921875   g: 0.0    gl: 1.4452216625213623\n",
      "real:  54 fake:  64\n",
      "d: 0.921875   g: 0.0    gl: 1.432603359222412\n",
      "real:  54 fake:  64\n",
      "e:  12 @@@@@@@@@@ d: 0.921875   g: 0.0\n"
     ]
    },
    {
     "output_type": "display_data",
     "data": {
      "text/plain": [
       "<Figure size 432x288 with 1 Axes>"
      ],
      "image/png": "[encoded data removed]"
     },
     "metadata": {
      "needs_background": "light"
     }
    },
    {
     "output_type": "stream",
     "name": "stdout",
     "text": [
      "real:  54 fake:  64\n",
      "d: 0.921875   g: 0.0    gl: 1.4227190017700195\n",
      "real:  54 fake:  64\n",
      "d: 0.921875   g: 0.0    gl: 1.4088332653045654\n",
      "real:  54 fake:  64\n",
      "d: 0.921875   g: 0.0    gl: 1.3976706266403198\n",
      "real:  53 fake:  64\n",
      "d: 0.9140625   g: 0.0    gl: 1.3834445476531982\n",
      "real:  53 fake:  64\n",
      "d: 0.9140625   g: 0.0    gl: 1.3700647354125977\n",
      "real:  53 fake:  64\n",
      "d: 0.9140625   g: 0.0    gl: 1.3574767112731934\n",
      "real:  53 fake:  64\n",
      "d: 0.9140625   g: 0.0    gl: 1.3454455137252808\n",
      "real:  53 fake:  64\n",
      "d: 0.9140625   g: 0.0    gl: 1.3338340520858765\n",
      "real:  53 fake:  64\n",
      "e:  13 @@@@@@@@@@ d: 0.9140625   g: 0.0\n"
     ]
    },
    {
     "output_type": "display_data",
     "data": {
      "text/plain": [
       "<Figure size 432x288 with 1 Axes>"
      ],
      "image/png": "[encoded data removed]"
     },
     "metadata": {
      "needs_background": "light"
     }
    },
    {
     "output_type": "stream",
     "name": "stdout",
     "text": [
      "real:  53 fake:  64\n",
      "d: 0.9140625   g: 0.0    gl: 1.3251172304153442\n",
      "real:  53 fake:  64\n",
      "d: 0.9140625   g: 0.0    gl: 1.3174395561218262\n",
      "real:  53 fake:  64\n",
      "d: 0.9140625   g: 0.0    gl: 1.3108081817626953\n",
      "real:  53 fake:  64\n",
      "d: 0.9140625   g: 0.0    gl: 1.3045501708984375\n",
      "real:  52 fake:  64\n",
      "d: 0.90625   g: 0.0    gl: 1.299468755722046\n",
      "real:  52 fake:  64\n",
      "d: 0.90625   g: 0.0    gl: 1.294644832611084\n",
      "real:  52 fake:  64\n",
      "d: 0.90625   g: 0.0    gl: 1.2907919883728027\n",
      "real:  52 fake:  64\n",
      "d: 0.90625   g: 0.0    gl: 1.2862038612365723\n",
      "real:  52 fake:  64\n",
      "e:  14 @@@@@@@@@@ d: 0.90625   g: 0.0\n"
     ]
    },
    {
     "output_type": "display_data",
     "data": {
      "text/plain": [
       "<Figure size 432x288 with 1 Axes>"
      ],
      "image/png": "[encoded data removed]"
     },
     "metadata": {
      "needs_background": "light"
     }
    },
    {
     "output_type": "stream",
     "name": "stdout",
     "text": [
      "real:  52 fake:  64\n",
      "d: 0.90625   g: 0.0    gl: 1.2816760540008545\n",
      "real:  52 fake:  64\n",
      "d: 0.90625   g: 0.0    gl: 1.2748072147369385\n",
      "real:  52 fake:  64\n",
      "d: 0.90625   g: 0.0    gl: 1.2692770957946777\n",
      "real:  52 fake:  64\n",
      "d: 0.90625   g: 0.0    gl: 1.263925313949585\n",
      "real:  52 fake:  64\n",
      "d: 0.90625   g: 0.0    gl: 1.2592639923095703\n",
      "real:  52 fake:  64\n",
      "d: 0.90625   g: 0.0    gl: 1.2552847862243652\n",
      "real:  52 fake:  64\n",
      "d: 0.90625   g: 0.0    gl: 1.2524545192718506\n",
      "real:  52 fake:  64\n",
      "d: 0.90625   g: 0.0    gl: 1.249725341796875\n",
      "real:  52 fake:  64\n",
      "e:  15 @@@@@@@@@@ d: 0.90625   g: 0.0\n"
     ]
    },
    {
     "output_type": "display_data",
     "data": {
      "text/plain": [
       "<Figure size 432x288 with 1 Axes>"
      ],
      "image/png": "[encoded data removed]"
     },
     "metadata": {
      "needs_background": "light"
     }
    },
    {
     "output_type": "stream",
     "name": "stdout",
     "text": [
      "real:  52 fake:  64\n",
      "d: 0.90625   g: 0.0    gl: 1.247549295425415\n",
      "real:  52 fake:  64\n",
      "d: 0.90625   g: 0.0    gl: 1.2450810670852661\n",
      "real:  52 fake:  64\n",
      "d: 0.90625   g: 0.0    gl: 1.2431437969207764\n",
      "real:  52 fake:  64\n",
      "d: 0.90625   g: 0.0    gl: 1.235299825668335\n",
      "real:  52 fake:  64\n",
      "d: 0.90625   g: 0.0    gl: 1.2284737825393677\n",
      "real:  52 fake:  64\n",
      "d: 0.90625   g: 0.0    gl: 1.2221591472625732\n",
      "real:  52 fake:  64\n",
      "d: 0.90625   g: 0.0    gl: 1.2157479524612427\n",
      "real:  52 fake:  64\n",
      "d: 0.90625   g: 0.0    gl: 1.2105114459991455\n",
      "real:  52 fake:  64\n",
      "e:  16 @@@@@@@@@@ d: 0.90625   g: 0.0\n"
     ]
    },
    {
     "output_type": "display_data",
     "data": {
      "text/plain": [
       "<Figure size 432x288 with 1 Axes>"
      ],
      "image/png": "[encoded data removed]"
     },
     "metadata": {
      "needs_background": "light"
     }
    },
    {
     "output_type": "stream",
     "name": "stdout",
     "text": [
      "real:  52 fake:  64\n",
      "d: 0.90625   g: 0.0    gl: 1.2069779634475708\n",
      "real:  52 fake:  64\n",
      "d: 0.90625   g: 0.0    gl: 1.2027606964111328\n",
      "real:  52 fake:  64\n",
      "d: 0.90625   g: 0.0    gl: 1.200154423713684\n",
      "real:  52 fake:  64\n",
      "d: 0.90625   g: 0.0    gl: 1.197443962097168\n",
      "real:  52 fake:  64\n",
      "d: 0.90625   g: 0.0    gl: 1.194324254989624\n",
      "real:  52 fake:  64\n",
      "d: 0.90625   g: 0.0    gl: 1.1919751167297363\n",
      "real:  52 fake:  64\n",
      "d: 0.90625   g: 0.0    gl: 1.1897358894348145\n",
      "real:  52 fake:  64\n",
      "e:  17 @@@@@@@@@@ d: 0.90625   g: 0.0\n"
     ]
    },
    {
     "output_type": "display_data",
     "data": {
      "text/plain": [
       "<Figure size 432x288 with 1 Axes>"
      ],
      "image/png": "[encoded data removed]"
     },
     "metadata": {
      "needs_background": "light"
     }
    },
    {
     "output_type": "stream",
     "name": "stdout",
     "text": [
      "real:  52 fake:  64\n",
      "d: 0.90625   g: 0.0    gl: 1.1876811981201172\n",
      "real:  52 fake:  64\n",
      "d: 0.90625   g: 0.0    gl: 1.186539649963379\n",
      "real:  52 fake:  64\n",
      "d: 0.90625   g: 0.0    gl: 0.9854741096496582\n",
      "real:  52 fake:  64\n",
      "d: 0.90625   g: 0.0    gl: 0.969303548336029\n",
      "real:  52 fake:  64\n",
      "d: 0.90625   g: 0.0    gl: 0.9617328643798828\n",
      "real:  52 fake:  64\n",
      "d: 0.90625   g: 0.0    gl: 0.9567179679870605\n",
      "real:  52 fake:  64\n",
      "d: 0.90625   g: 0.0    gl: 0.9534572958946228\n",
      "real:  52 fake:  64\n",
      "d: 0.90625   g: 0.0    gl: 0.9486023187637329\n",
      "real:  52 fake:  64\n",
      "e:  18 @@@@@@@@@@ d: 0.90625   g: 0.0\n"
     ]
    },
    {
     "output_type": "display_data",
     "data": {
      "text/plain": [
       "<Figure size 432x288 with 1 Axes>"
      ],
      "image/png": "[encoded data removed]"
     },
     "metadata": {
      "needs_background": "light"
     }
    },
    {
     "output_type": "stream",
     "name": "stdout",
     "text": [
      "real:  52 fake:  64\n",
      "d: 0.90625   g: 0.0    gl: 0.9434541463851929\n",
      "real:  52 fake:  64\n",
      "d: 0.90625   g: 0.0    gl: 0.9405527114868164\n",
      "real:  52 fake:  64\n",
      "d: 0.90625   g: 0.0    gl: 0.9382953643798828\n",
      "real:  52 fake:  64\n",
      "d: 0.90625   g: 0.0    gl: 0.9375089406967163\n",
      "real:  52 fake:  64\n",
      "d: 0.90625   g: 0.0    gl: 0.9372012615203857\n",
      "real:  52 fake:  64\n",
      "d: 0.90625   g: 0.0    gl: 0.9369838237762451\n",
      "real:  52 fake:  64\n",
      "d: 0.90625   g: 0.0    gl: 0.93682461977005\n",
      "real:  52 fake:  64\n",
      "d: 0.90625   g: 0.0    gl: 0.9349151849746704\n",
      "real:  52 fake:  64\n",
      "e:  19 @@@@@@@@@@ d: 0.90625   g: 0.0\n"
     ]
    },
    {
     "output_type": "display_data",
     "data": {
      "text/plain": [
       "<Figure size 432x288 with 1 Axes>"
      ],
      "image/png": "[encoded data removed]"
     },
     "metadata": {
      "needs_background": "light"
     }
    },
    {
     "output_type": "stream",
     "name": "stdout",
     "text": [
      "real:  52 fake:  64\n",
      "d: 0.90625   g: 0.0    gl: 0.9343847036361694\n",
      "real:  52 fake:  64\n",
      "d: 0.90625   g: 0.0    gl: 0.9324033260345459\n",
      "real:  52 fake:  64\n",
      "d: 0.90625   g: 0.0    gl: 0.9318777322769165\n",
      "real:  52 fake:  64\n",
      "d: 0.90625   g: 0.0    gl: 0.9318686723709106\n",
      "real:  52 fake:  64\n",
      "d: 0.90625   g: 0.0    gl: 0.9312909841537476\n",
      "real:  52 fake:  64\n",
      "d: 0.90625   g: 0.0    gl: 0.9311631917953491\n",
      "real:  52 fake:  64\n",
      "d: 0.90625   g: 0.0    gl: 0.9314350485801697\n",
      "real:  52 fake:  64\n",
      "d: 0.90625   g: 0.0    gl: 0.930031418800354\n",
      "real:  52 fake:  64\n",
      "e:  20 @@@@@@@@@@ d: 0.90625   g: 0.0\n"
     ]
    },
    {
     "output_type": "display_data",
     "data": {
      "text/plain": [
       "<Figure size 432x288 with 1 Axes>"
      ],
      "image/png": "[encoded data removed]"
     },
     "metadata": {
      "needs_background": "light"
     }
    },
    {
     "output_type": "stream",
     "name": "stdout",
     "text": [
      "real:  52 fake:  64\n",
      "d: 0.90625   g: 0.0    gl: 0.9304604530334473\n",
      "real:  52 fake:  64\n",
      "d: 0.90625   g: 0.0    gl: 0.9274802207946777\n",
      "real:  52 fake:  64\n",
      "d: 0.90625   g: 0.0    gl: 0.9273694753646851\n",
      "real:  52 fake:  64\n",
      "d: 0.90625   g: 0.0    gl: 0.9269901514053345\n",
      "real:  52 fake:  64\n",
      "d: 0.90625   g: 0.0    gl: 0.9267435669898987\n",
      "real:  52 fake:  64\n",
      "d: 0.90625   g: 0.0    gl: 0.9262768030166626\n",
      "real:  52 fake:  64\n",
      "d: 0.90625   g: 0.0    gl: 0.9237470626831055\n",
      "real:  52 fake:  64\n",
      "d: 0.90625   g: 0.0    gl: 0.9219285845756531\n",
      "real:  52 fake:  64\n",
      "e:  21 @@@@@@@@@@ d: 0.90625   g: 0.0\n"
     ]
    },
    {
     "output_type": "display_data",
     "data": {
      "text/plain": [
       "<Figure size 432x288 with 1 Axes>"
      ],
      "image/png": "[encoded data removed]"
     },
     "metadata": {
      "needs_background": "light"
     }
    },
    {
     "output_type": "stream",
     "name": "stdout",
     "text": [
      "real:  52 fake:  64\n",
      "d: 0.90625   g: 0.0    gl: 0.9209582805633545\n",
      "real:  52 fake:  64\n",
      "d: 0.90625   g: 0.0    gl: 0.919975757598877\n",
      "real:  52 fake:  64\n",
      "d: 0.90625   g: 0.0    gl: 0.9188590049743652\n",
      "real:  52 fake:  64\n",
      "d: 0.90625   g: 0.0    gl: 0.9178769588470459\n",
      "real:  52 fake:  64\n",
      "d: 0.90625   g: 0.0    gl: 0.9147955179214478\n",
      "real:  52 fake:  64\n",
      "d: 0.90625   g: 0.0    gl: 0.9117212891578674\n",
      "real:  52 fake:  64\n",
      "d: 0.90625   g: 0.0    gl: 0.9071105718612671\n",
      "real:  52 fake:  64\n",
      "d: 0.90625   g: 0.0    gl: 0.902863621711731\n",
      "real:  52 fake:  64\n",
      "e:  22 @@@@@@@@@@ d: 0.90625   g: 0.0\n"
     ]
    },
    {
     "output_type": "display_data",
     "data": {
      "text/plain": [
       "<Figure size 432x288 with 1 Axes>"
      ],
      "image/png": "[encoded data removed]"
     },
     "metadata": {
      "needs_background": "light"
     }
    },
    {
     "output_type": "stream",
     "name": "stdout",
     "text": [
      "real:  52 fake:  64\n",
      "d: 0.90625   g: 0.0    gl: 0.8987393975257874\n",
      "real:  52 fake:  64\n",
      "d: 0.90625   g: 0.0    gl: 0.8942680358886719\n",
      "real:  52 fake:  64\n",
      "d: 0.90625   g: 0.0    gl: 0.8905118107795715\n"
     ]
    },
    {
     "output_type": "error",
     "ename": "KeyboardInterrupt",
     "evalue": "",
     "traceback": [
      "\u001b[1;31m---------------------------------------------------------------------------\u001b[0m",
      "\u001b[1;31mKeyboardInterrupt\u001b[0m                         Traceback (most recent call last)",
      "\u001b[1;32m<ipython-input-136-1db8d9b55d3d>\u001b[0m in \u001b[0;36m<module>\u001b[1;34m\u001b[0m\n\u001b[0;32m     26\u001b[0m     \u001b[0mg_optimizer\u001b[0m\u001b[1;33m.\u001b[0m\u001b[0mzero_grad\u001b[0m\u001b[1;33m(\u001b[0m\u001b[1;33m)\u001b[0m\u001b[1;33m\u001b[0m\u001b[1;33m\u001b[0m\u001b[0m\n\u001b[0;32m     27\u001b[0m     \u001b[0mzz\u001b[0m \u001b[1;33m=\u001b[0m \u001b[0mgen_rand_imgs\u001b[0m\u001b[1;33m(\u001b[0m\u001b[1;33m[\u001b[0m\u001b[0mbatch_size\u001b[0m\u001b[1;33m,\u001b[0m \u001b[1;36m100\u001b[0m\u001b[1;33m]\u001b[0m\u001b[1;33m)\u001b[0m\u001b[1;33m.\u001b[0m\u001b[0mto\u001b[0m\u001b[1;33m(\u001b[0m\u001b[0mdevice\u001b[0m\u001b[1;33m)\u001b[0m\u001b[1;33m\u001b[0m\u001b[1;33m\u001b[0m\u001b[0m\n\u001b[1;32m---> 28\u001b[1;33m     \u001b[0mfake_images\u001b[0m \u001b[1;33m=\u001b[0m \u001b[0mg_net\u001b[0m\u001b[1;33m(\u001b[0m\u001b[0mzz\u001b[0m\u001b[1;33m)\u001b[0m\u001b[1;33m\u001b[0m\u001b[1;33m\u001b[0m\u001b[0m\n\u001b[0m\u001b[0;32m     29\u001b[0m     \u001b[1;31m# norm_loss = get_norm_loss(fake_images)\u001b[0m\u001b[1;33m\u001b[0m\u001b[1;33m\u001b[0m\u001b[1;33m\u001b[0m\u001b[0m\n\u001b[0;32m     30\u001b[0m     \u001b[0mfake_images\u001b[0m \u001b[1;33m=\u001b[0m \u001b[0mtorch\u001b[0m\u001b[1;33m.\u001b[0m\u001b[0msigmoid\u001b[0m\u001b[1;33m(\u001b[0m\u001b[0mfake_images\u001b[0m\u001b[1;33m)\u001b[0m\u001b[1;33m\u001b[0m\u001b[1;33m\u001b[0m\u001b[0m\n",
      "\u001b[1;32mI:\\Anaconda3\\envs\\hhx\\lib\\site-packages\\torch\\nn\\modules\\module.py\u001b[0m in \u001b[0;36m_call_impl\u001b[1;34m(self, *input, **kwargs)\u001b[0m\n\u001b[0;32m   1049\u001b[0m         if not (self._backward_hooks or self._forward_hooks or self._forward_pre_hooks or _global_backward_hooks\n\u001b[0;32m   1050\u001b[0m                 or _global_forward_hooks or _global_forward_pre_hooks):\n\u001b[1;32m-> 1051\u001b[1;33m             \u001b[1;32mreturn\u001b[0m \u001b[0mforward_call\u001b[0m\u001b[1;33m(\u001b[0m\u001b[1;33m*\u001b[0m\u001b[0minput\u001b[0m\u001b[1;33m,\u001b[0m \u001b[1;33m**\u001b[0m\u001b[0mkwargs\u001b[0m\u001b[1;33m)\u001b[0m\u001b[1;33m\u001b[0m\u001b[1;33m\u001b[0m\u001b[0m\n\u001b[0m\u001b[0;32m   1052\u001b[0m         \u001b[1;31m# Do not call functions when jit is used\u001b[0m\u001b[1;33m\u001b[0m\u001b[1;33m\u001b[0m\u001b[1;33m\u001b[0m\u001b[0m\n\u001b[0;32m   1053\u001b[0m         \u001b[0mfull_backward_hooks\u001b[0m\u001b[1;33m,\u001b[0m \u001b[0mnon_full_backward_hooks\u001b[0m \u001b[1;33m=\u001b[0m \u001b[1;33m[\u001b[0m\u001b[1;33m]\u001b[0m\u001b[1;33m,\u001b[0m \u001b[1;33m[\u001b[0m\u001b[1;33m]\u001b[0m\u001b[1;33m\u001b[0m\u001b[1;33m\u001b[0m\u001b[0m\n",
      "\u001b[1;32m<ipython-input-120-8c7286bb4912>\u001b[0m in \u001b[0;36mforward\u001b[1;34m(self, x)\u001b[0m\n\u001b[0;32m     19\u001b[0m     \u001b[0mx\u001b[0m \u001b[1;33m=\u001b[0m \u001b[0mF\u001b[0m\u001b[1;33m.\u001b[0m\u001b[0mleaky_relu\u001b[0m\u001b[1;33m(\u001b[0m\u001b[0mself\u001b[0m\u001b[1;33m.\u001b[0m\u001b[0mfc1\u001b[0m\u001b[1;33m(\u001b[0m\u001b[0mx\u001b[0m\u001b[1;33m)\u001b[0m\u001b[1;33m)\u001b[0m\u001b[1;33m\u001b[0m\u001b[1;33m\u001b[0m\u001b[0m\n\u001b[0;32m     20\u001b[0m     \u001b[0mx\u001b[0m \u001b[1;33m=\u001b[0m \u001b[0mx\u001b[0m\u001b[1;33m.\u001b[0m\u001b[0mreshape\u001b[0m\u001b[1;33m(\u001b[0m\u001b[1;33m-\u001b[0m\u001b[1;36m1\u001b[0m\u001b[1;33m,\u001b[0m \u001b[1;36m16\u001b[0m\u001b[1;33m,\u001b[0m \u001b[1;36m4\u001b[0m\u001b[1;33m,\u001b[0m \u001b[1;36m4\u001b[0m\u001b[1;33m)\u001b[0m\u001b[1;33m\u001b[0m\u001b[1;33m\u001b[0m\u001b[0m\n\u001b[1;32m---> 21\u001b[1;33m     \u001b[0mx\u001b[0m \u001b[1;33m=\u001b[0m \u001b[0mF\u001b[0m\u001b[1;33m.\u001b[0m\u001b[0mleaky_relu\u001b[0m\u001b[1;33m(\u001b[0m\u001b[0mself\u001b[0m\u001b[1;33m.\u001b[0m\u001b[0mseq1\u001b[0m\u001b[1;33m(\u001b[0m\u001b[0mx\u001b[0m\u001b[1;33m)\u001b[0m\u001b[1;33m)\u001b[0m\u001b[1;33m\u001b[0m\u001b[1;33m\u001b[0m\u001b[0m\n\u001b[0m\u001b[0;32m     22\u001b[0m     \u001b[0mx\u001b[0m \u001b[1;33m=\u001b[0m \u001b[0mF\u001b[0m\u001b[1;33m.\u001b[0m\u001b[0mleaky_relu\u001b[0m\u001b[1;33m(\u001b[0m\u001b[0mself\u001b[0m\u001b[1;33m.\u001b[0m\u001b[0mseq2\u001b[0m\u001b[1;33m(\u001b[0m\u001b[0mx\u001b[0m\u001b[1;33m)\u001b[0m\u001b[1;33m)\u001b[0m\u001b[1;33m\u001b[0m\u001b[1;33m\u001b[0m\u001b[0m\n\u001b[0;32m     23\u001b[0m     \u001b[0mx\u001b[0m \u001b[1;33m=\u001b[0m \u001b[0mF\u001b[0m\u001b[1;33m.\u001b[0m\u001b[0mleaky_relu\u001b[0m\u001b[1;33m(\u001b[0m\u001b[0mself\u001b[0m\u001b[1;33m.\u001b[0m\u001b[0mseq3\u001b[0m\u001b[1;33m(\u001b[0m\u001b[0mx\u001b[0m\u001b[1;33m)\u001b[0m\u001b[1;33m)\u001b[0m\u001b[1;33m\u001b[0m\u001b[1;33m\u001b[0m\u001b[0m\n",
      "\u001b[1;32mI:\\Anaconda3\\envs\\hhx\\lib\\site-packages\\torch\\nn\\modules\\module.py\u001b[0m in \u001b[0;36m_call_impl\u001b[1;34m(self, *input, **kwargs)\u001b[0m\n\u001b[0;32m   1049\u001b[0m         if not (self._backward_hooks or self._forward_hooks or self._forward_pre_hooks or _global_backward_hooks\n\u001b[0;32m   1050\u001b[0m                 or _global_forward_hooks or _global_forward_pre_hooks):\n\u001b[1;32m-> 1051\u001b[1;33m             \u001b[1;32mreturn\u001b[0m \u001b[0mforward_call\u001b[0m\u001b[1;33m(\u001b[0m\u001b[1;33m*\u001b[0m\u001b[0minput\u001b[0m\u001b[1;33m,\u001b[0m \u001b[1;33m**\u001b[0m\u001b[0mkwargs\u001b[0m\u001b[1;33m)\u001b[0m\u001b[1;33m\u001b[0m\u001b[1;33m\u001b[0m\u001b[0m\n\u001b[0m\u001b[0;32m   1052\u001b[0m         \u001b[1;31m# Do not call functions when jit is used\u001b[0m\u001b[1;33m\u001b[0m\u001b[1;33m\u001b[0m\u001b[1;33m\u001b[0m\u001b[0m\n\u001b[0;32m   1053\u001b[0m         \u001b[0mfull_backward_hooks\u001b[0m\u001b[1;33m,\u001b[0m \u001b[0mnon_full_backward_hooks\u001b[0m \u001b[1;33m=\u001b[0m \u001b[1;33m[\u001b[0m\u001b[1;33m]\u001b[0m\u001b[1;33m,\u001b[0m \u001b[1;33m[\u001b[0m\u001b[1;33m]\u001b[0m\u001b[1;33m\u001b[0m\u001b[1;33m\u001b[0m\u001b[0m\n",
      "\u001b[1;32mI:\\Anaconda3\\envs\\hhx\\lib\\site-packages\\torch\\nn\\modules\\container.py\u001b[0m in \u001b[0;36mforward\u001b[1;34m(self, input)\u001b[0m\n\u001b[0;32m    137\u001b[0m     \u001b[1;32mdef\u001b[0m \u001b[0mforward\u001b[0m\u001b[1;33m(\u001b[0m\u001b[0mself\u001b[0m\u001b[1;33m,\u001b[0m \u001b[0minput\u001b[0m\u001b[1;33m)\u001b[0m\u001b[1;33m:\u001b[0m\u001b[1;33m\u001b[0m\u001b[1;33m\u001b[0m\u001b[0m\n\u001b[0;32m    138\u001b[0m         \u001b[1;32mfor\u001b[0m \u001b[0mmodule\u001b[0m \u001b[1;32min\u001b[0m \u001b[0mself\u001b[0m\u001b[1;33m:\u001b[0m\u001b[1;33m\u001b[0m\u001b[1;33m\u001b[0m\u001b[0m\n\u001b[1;32m--> 139\u001b[1;33m             \u001b[0minput\u001b[0m \u001b[1;33m=\u001b[0m \u001b[0mmodule\u001b[0m\u001b[1;33m(\u001b[0m\u001b[0minput\u001b[0m\u001b[1;33m)\u001b[0m\u001b[1;33m\u001b[0m\u001b[1;33m\u001b[0m\u001b[0m\n\u001b[0m\u001b[0;32m    140\u001b[0m         \u001b[1;32mreturn\u001b[0m \u001b[0minput\u001b[0m\u001b[1;33m\u001b[0m\u001b[1;33m\u001b[0m\u001b[0m\n\u001b[0;32m    141\u001b[0m \u001b[1;33m\u001b[0m\u001b[0m\n",
      "\u001b[1;32mI:\\Anaconda3\\envs\\hhx\\lib\\site-packages\\torch\\nn\\modules\\module.py\u001b[0m in \u001b[0;36m_call_impl\u001b[1;34m(self, *input, **kwargs)\u001b[0m\n\u001b[0;32m   1049\u001b[0m         if not (self._backward_hooks or self._forward_hooks or self._forward_pre_hooks or _global_backward_hooks\n\u001b[0;32m   1050\u001b[0m                 or _global_forward_hooks or _global_forward_pre_hooks):\n\u001b[1;32m-> 1051\u001b[1;33m             \u001b[1;32mreturn\u001b[0m \u001b[0mforward_call\u001b[0m\u001b[1;33m(\u001b[0m\u001b[1;33m*\u001b[0m\u001b[0minput\u001b[0m\u001b[1;33m,\u001b[0m \u001b[1;33m**\u001b[0m\u001b[0mkwargs\u001b[0m\u001b[1;33m)\u001b[0m\u001b[1;33m\u001b[0m\u001b[1;33m\u001b[0m\u001b[0m\n\u001b[0m\u001b[0;32m   1052\u001b[0m         \u001b[1;31m# Do not call functions when jit is used\u001b[0m\u001b[1;33m\u001b[0m\u001b[1;33m\u001b[0m\u001b[1;33m\u001b[0m\u001b[0m\n\u001b[0;32m   1053\u001b[0m         \u001b[0mfull_backward_hooks\u001b[0m\u001b[1;33m,\u001b[0m \u001b[0mnon_full_backward_hooks\u001b[0m \u001b[1;33m=\u001b[0m \u001b[1;33m[\u001b[0m\u001b[1;33m]\u001b[0m\u001b[1;33m,\u001b[0m \u001b[1;33m[\u001b[0m\u001b[1;33m]\u001b[0m\u001b[1;33m\u001b[0m\u001b[1;33m\u001b[0m\u001b[0m\n",
      "\u001b[1;32mI:\\Anaconda3\\envs\\hhx\\lib\\site-packages\\torch\\nn\\modules\\conv.py\u001b[0m in \u001b[0;36mforward\u001b[1;34m(self, input)\u001b[0m\n\u001b[0;32m    441\u001b[0m \u001b[1;33m\u001b[0m\u001b[0m\n\u001b[0;32m    442\u001b[0m     \u001b[1;32mdef\u001b[0m \u001b[0mforward\u001b[0m\u001b[1;33m(\u001b[0m\u001b[0mself\u001b[0m\u001b[1;33m,\u001b[0m \u001b[0minput\u001b[0m\u001b[1;33m:\u001b[0m \u001b[0mTensor\u001b[0m\u001b[1;33m)\u001b[0m \u001b[1;33m->\u001b[0m \u001b[0mTensor\u001b[0m\u001b[1;33m:\u001b[0m\u001b[1;33m\u001b[0m\u001b[1;33m\u001b[0m\u001b[0m\n\u001b[1;32m--> 443\u001b[1;33m         \u001b[1;32mreturn\u001b[0m \u001b[0mself\u001b[0m\u001b[1;33m.\u001b[0m\u001b[0m_conv_forward\u001b[0m\u001b[1;33m(\u001b[0m\u001b[0minput\u001b[0m\u001b[1;33m,\u001b[0m \u001b[0mself\u001b[0m\u001b[1;33m.\u001b[0m\u001b[0mweight\u001b[0m\u001b[1;33m,\u001b[0m \u001b[0mself\u001b[0m\u001b[1;33m.\u001b[0m\u001b[0mbias\u001b[0m\u001b[1;33m)\u001b[0m\u001b[1;33m\u001b[0m\u001b[1;33m\u001b[0m\u001b[0m\n\u001b[0m\u001b[0;32m    444\u001b[0m \u001b[1;33m\u001b[0m\u001b[0m\n\u001b[0;32m    445\u001b[0m \u001b[1;32mclass\u001b[0m \u001b[0mConv3d\u001b[0m\u001b[1;33m(\u001b[0m\u001b[0m_ConvNd\u001b[0m\u001b[1;33m)\u001b[0m\u001b[1;33m:\u001b[0m\u001b[1;33m\u001b[0m\u001b[1;33m\u001b[0m\u001b[0m\n",
      "\u001b[1;32mI:\\Anaconda3\\envs\\hhx\\lib\\site-packages\\torch\\nn\\modules\\conv.py\u001b[0m in \u001b[0;36m_conv_forward\u001b[1;34m(self, input, weight, bias)\u001b[0m\n\u001b[0;32m    438\u001b[0m                             _pair(0), self.dilation, self.groups)\n\u001b[0;32m    439\u001b[0m         return F.conv2d(input, weight, bias, self.stride,\n\u001b[1;32m--> 440\u001b[1;33m                         self.padding, self.dilation, self.groups)\n\u001b[0m\u001b[0;32m    441\u001b[0m \u001b[1;33m\u001b[0m\u001b[0m\n\u001b[0;32m    442\u001b[0m     \u001b[1;32mdef\u001b[0m \u001b[0mforward\u001b[0m\u001b[1;33m(\u001b[0m\u001b[0mself\u001b[0m\u001b[1;33m,\u001b[0m \u001b[0minput\u001b[0m\u001b[1;33m:\u001b[0m \u001b[0mTensor\u001b[0m\u001b[1;33m)\u001b[0m \u001b[1;33m->\u001b[0m \u001b[0mTensor\u001b[0m\u001b[1;33m:\u001b[0m\u001b[1;33m\u001b[0m\u001b[1;33m\u001b[0m\u001b[0m\n",
      "\u001b[1;31mKeyboardInterrupt\u001b[0m: "
     ]
    }
   ],
   "metadata": {}
  },
  {
   "cell_type": "code",
   "execution_count": null,
   "source": [],
   "outputs": [],
   "metadata": {}
  },
  {
   "cell_type": "code",
   "execution_count": null,
   "source": [],
   "outputs": [],
   "metadata": {}
  },
  {
   "cell_type": "code",
   "execution_count": 25,
   "source": [
    "for epoch in range(1, epoch_num + 1):\r\n",
    "  print(epoch)\r\n",
    "  d_net.train()\r\n",
    "  g_net.train()\r\n",
    "\r\n",
    "  for idx, imgs in enumerate(train_loader):\r\n",
    "    optimizer.zero_grad()\r\n",
    "    ri, fi, rl, fl = gen_real_fake_batch(imgs[0])\r\n",
    "    ro = d_net(ri)\r\n",
    "    fo = d_net(fi)\r\n",
    "    real_loss = criterion(ro, rl.type(torch.float))\r\n",
    "    fake_loss = criterion(fo, fl.type(torch.float))\r\n",
    "    real_loss += fake_loss\r\n",
    "    real_loss = real_loss.cuda()\r\n",
    "    \r\n",
    "    real_loss.backward()\r\n",
    "    optimizer.step()\r\n",
    "    \r\n",
    "    if idx % 100 == 0:\r\n",
    "      # print('@@@@', ro[:10], fo[:10])\r\n",
    "      print('idx: ', idx, ' loss: ', real_loss.item())\r\n",
    "      print('accuracy: ', test_discriminator_accuracy())\r\n",
    "\r\n",
    "  print('aaaaaaaaaaaaaaaaaa accuracy: ', test_discriminator_accuracy())"
   ],
   "outputs": [
    {
     "output_type": "stream",
     "name": "stdout",
     "text": [
      "1\n",
      "idx:  0  loss:  1.3765780925750732\n",
      "accuracy:  0.359375\n",
      "idx:  100  loss:  0.6527634859085083\n",
      "accuracy:  0.5\n",
      "idx:  200  loss:  0.5072628259658813\n",
      "accuracy:  1.0\n",
      "idx:  300  loss:  0.2723243236541748\n",
      "accuracy:  0.8671875\n",
      "idx:  400  loss:  0.11385341733694077\n",
      "accuracy:  0.8671875\n",
      "idx:  500  loss:  0.05409223958849907\n",
      "accuracy:  0.703125\n",
      "idx:  600  loss:  0.031168930232524872\n",
      "accuracy:  0.578125\n",
      "idx:  700  loss:  0.019515855237841606\n",
      "accuracy:  0.6328125\n",
      "aaaaaaaaaaaaaaaaaa accuracy:  0.734375\n",
      "2\n",
      "idx:  0  loss:  0.014583422802388668\n",
      "accuracy:  0.734375\n",
      "idx:  100  loss:  0.009974643588066101\n",
      "accuracy:  0.5390625\n",
      "idx:  200  loss:  0.008359476923942566\n",
      "accuracy:  0.4140625\n",
      "idx:  300  loss:  0.0059466855600476265\n",
      "accuracy:  0.8125\n",
      "idx:  400  loss:  0.004520198330283165\n",
      "accuracy:  0.734375\n",
      "idx:  500  loss:  0.004471353255212307\n",
      "accuracy:  0.8515625\n",
      "idx:  600  loss:  0.003315683687105775\n",
      "accuracy:  0.8671875\n",
      "idx:  700  loss:  0.0026607427280396223\n",
      "accuracy:  0.8203125\n",
      "aaaaaaaaaaaaaaaaaa accuracy:  0.4296875\n",
      "3\n",
      "idx:  0  loss:  0.0023809175472706556\n",
      "accuracy:  0.4296875\n",
      "idx:  100  loss:  0.0019410208333283663\n",
      "accuracy:  0.78125\n",
      "idx:  200  loss:  0.0016298185801133513\n",
      "accuracy:  0.765625\n",
      "idx:  300  loss:  0.0013991459272801876\n",
      "accuracy:  0.71875\n",
      "idx:  400  loss:  0.001282597309909761\n",
      "accuracy:  0.6796875\n"
     ]
    },
    {
     "output_type": "error",
     "ename": "KeyboardInterrupt",
     "evalue": "",
     "traceback": [
      "\u001b[1;31m---------------------------------------------------------------------------\u001b[0m",
      "\u001b[1;31mKeyboardInterrupt\u001b[0m                         Traceback (most recent call last)",
      "\u001b[1;32m<ipython-input-25-1ee890adb3b5>\u001b[0m in \u001b[0;36m<module>\u001b[1;34m\u001b[0m\n\u001b[0;32m      4\u001b[0m   \u001b[0mg_net\u001b[0m\u001b[1;33m.\u001b[0m\u001b[0mtrain\u001b[0m\u001b[1;33m(\u001b[0m\u001b[1;33m)\u001b[0m\u001b[1;33m\u001b[0m\u001b[1;33m\u001b[0m\u001b[0m\n\u001b[0;32m      5\u001b[0m \u001b[1;33m\u001b[0m\u001b[0m\n\u001b[1;32m----> 6\u001b[1;33m   \u001b[1;32mfor\u001b[0m \u001b[0midx\u001b[0m\u001b[1;33m,\u001b[0m \u001b[0mimgs\u001b[0m \u001b[1;32min\u001b[0m \u001b[0menumerate\u001b[0m\u001b[1;33m(\u001b[0m\u001b[0mtrain_loader\u001b[0m\u001b[1;33m)\u001b[0m\u001b[1;33m:\u001b[0m\u001b[1;33m\u001b[0m\u001b[1;33m\u001b[0m\u001b[0m\n\u001b[0m\u001b[0;32m      7\u001b[0m     \u001b[0moptimizer\u001b[0m\u001b[1;33m.\u001b[0m\u001b[0mzero_grad\u001b[0m\u001b[1;33m(\u001b[0m\u001b[1;33m)\u001b[0m\u001b[1;33m\u001b[0m\u001b[1;33m\u001b[0m\u001b[0m\n\u001b[0;32m      8\u001b[0m     \u001b[0mri\u001b[0m\u001b[1;33m,\u001b[0m \u001b[0mfi\u001b[0m\u001b[1;33m,\u001b[0m \u001b[0mrl\u001b[0m\u001b[1;33m,\u001b[0m \u001b[0mfl\u001b[0m \u001b[1;33m=\u001b[0m \u001b[0mgen_real_fake_batch\u001b[0m\u001b[1;33m(\u001b[0m\u001b[0mimgs\u001b[0m\u001b[1;33m[\u001b[0m\u001b[1;36m0\u001b[0m\u001b[1;33m]\u001b[0m\u001b[1;33m)\u001b[0m\u001b[1;33m\u001b[0m\u001b[1;33m\u001b[0m\u001b[0m\n",
      "\u001b[1;32mI:\\Anaconda3\\envs\\hhx\\lib\\site-packages\\torch\\utils\\data\\dataloader.py\u001b[0m in \u001b[0;36m__next__\u001b[1;34m(self)\u001b[0m\n\u001b[0;32m    519\u001b[0m             \u001b[1;32mif\u001b[0m \u001b[0mself\u001b[0m\u001b[1;33m.\u001b[0m\u001b[0m_sampler_iter\u001b[0m \u001b[1;32mis\u001b[0m \u001b[1;32mNone\u001b[0m\u001b[1;33m:\u001b[0m\u001b[1;33m\u001b[0m\u001b[1;33m\u001b[0m\u001b[0m\n\u001b[0;32m    520\u001b[0m                 \u001b[0mself\u001b[0m\u001b[1;33m.\u001b[0m\u001b[0m_reset\u001b[0m\u001b[1;33m(\u001b[0m\u001b[1;33m)\u001b[0m\u001b[1;33m\u001b[0m\u001b[1;33m\u001b[0m\u001b[0m\n\u001b[1;32m--> 521\u001b[1;33m             \u001b[0mdata\u001b[0m \u001b[1;33m=\u001b[0m \u001b[0mself\u001b[0m\u001b[1;33m.\u001b[0m\u001b[0m_next_data\u001b[0m\u001b[1;33m(\u001b[0m\u001b[1;33m)\u001b[0m\u001b[1;33m\u001b[0m\u001b[1;33m\u001b[0m\u001b[0m\n\u001b[0m\u001b[0;32m    522\u001b[0m             \u001b[0mself\u001b[0m\u001b[1;33m.\u001b[0m\u001b[0m_num_yielded\u001b[0m \u001b[1;33m+=\u001b[0m \u001b[1;36m1\u001b[0m\u001b[1;33m\u001b[0m\u001b[1;33m\u001b[0m\u001b[0m\n\u001b[0;32m    523\u001b[0m             \u001b[1;32mif\u001b[0m \u001b[0mself\u001b[0m\u001b[1;33m.\u001b[0m\u001b[0m_dataset_kind\u001b[0m \u001b[1;33m==\u001b[0m \u001b[0m_DatasetKind\u001b[0m\u001b[1;33m.\u001b[0m\u001b[0mIterable\u001b[0m \u001b[1;32mand\u001b[0m\u001b[0;31m \u001b[0m\u001b[0;31m\\\u001b[0m\u001b[1;33m\u001b[0m\u001b[1;33m\u001b[0m\u001b[0m\n",
      "\u001b[1;32mI:\\Anaconda3\\envs\\hhx\\lib\\site-packages\\torch\\utils\\data\\dataloader.py\u001b[0m in \u001b[0;36m_next_data\u001b[1;34m(self)\u001b[0m\n\u001b[0;32m    559\u001b[0m     \u001b[1;32mdef\u001b[0m \u001b[0m_next_data\u001b[0m\u001b[1;33m(\u001b[0m\u001b[0mself\u001b[0m\u001b[1;33m)\u001b[0m\u001b[1;33m:\u001b[0m\u001b[1;33m\u001b[0m\u001b[1;33m\u001b[0m\u001b[0m\n\u001b[0;32m    560\u001b[0m         \u001b[0mindex\u001b[0m \u001b[1;33m=\u001b[0m \u001b[0mself\u001b[0m\u001b[1;33m.\u001b[0m\u001b[0m_next_index\u001b[0m\u001b[1;33m(\u001b[0m\u001b[1;33m)\u001b[0m  \u001b[1;31m# may raise StopIteration\u001b[0m\u001b[1;33m\u001b[0m\u001b[1;33m\u001b[0m\u001b[0m\n\u001b[1;32m--> 561\u001b[1;33m         \u001b[0mdata\u001b[0m \u001b[1;33m=\u001b[0m \u001b[0mself\u001b[0m\u001b[1;33m.\u001b[0m\u001b[0m_dataset_fetcher\u001b[0m\u001b[1;33m.\u001b[0m\u001b[0mfetch\u001b[0m\u001b[1;33m(\u001b[0m\u001b[0mindex\u001b[0m\u001b[1;33m)\u001b[0m  \u001b[1;31m# may raise StopIteration\u001b[0m\u001b[1;33m\u001b[0m\u001b[1;33m\u001b[0m\u001b[0m\n\u001b[0m\u001b[0;32m    562\u001b[0m         \u001b[1;32mif\u001b[0m \u001b[0mself\u001b[0m\u001b[1;33m.\u001b[0m\u001b[0m_pin_memory\u001b[0m\u001b[1;33m:\u001b[0m\u001b[1;33m\u001b[0m\u001b[1;33m\u001b[0m\u001b[0m\n\u001b[0;32m    563\u001b[0m             \u001b[0mdata\u001b[0m \u001b[1;33m=\u001b[0m \u001b[0m_utils\u001b[0m\u001b[1;33m.\u001b[0m\u001b[0mpin_memory\u001b[0m\u001b[1;33m.\u001b[0m\u001b[0mpin_memory\u001b[0m\u001b[1;33m(\u001b[0m\u001b[0mdata\u001b[0m\u001b[1;33m)\u001b[0m\u001b[1;33m\u001b[0m\u001b[1;33m\u001b[0m\u001b[0m\n",
      "\u001b[1;32mI:\\Anaconda3\\envs\\hhx\\lib\\site-packages\\torch\\utils\\data\\_utils\\fetch.py\u001b[0m in \u001b[0;36mfetch\u001b[1;34m(self, possibly_batched_index)\u001b[0m\n\u001b[0;32m     42\u001b[0m     \u001b[1;32mdef\u001b[0m \u001b[0mfetch\u001b[0m\u001b[1;33m(\u001b[0m\u001b[0mself\u001b[0m\u001b[1;33m,\u001b[0m \u001b[0mpossibly_batched_index\u001b[0m\u001b[1;33m)\u001b[0m\u001b[1;33m:\u001b[0m\u001b[1;33m\u001b[0m\u001b[1;33m\u001b[0m\u001b[0m\n\u001b[0;32m     43\u001b[0m         \u001b[1;32mif\u001b[0m \u001b[0mself\u001b[0m\u001b[1;33m.\u001b[0m\u001b[0mauto_collation\u001b[0m\u001b[1;33m:\u001b[0m\u001b[1;33m\u001b[0m\u001b[1;33m\u001b[0m\u001b[0m\n\u001b[1;32m---> 44\u001b[1;33m             \u001b[0mdata\u001b[0m \u001b[1;33m=\u001b[0m \u001b[1;33m[\u001b[0m\u001b[0mself\u001b[0m\u001b[1;33m.\u001b[0m\u001b[0mdataset\u001b[0m\u001b[1;33m[\u001b[0m\u001b[0midx\u001b[0m\u001b[1;33m]\u001b[0m \u001b[1;32mfor\u001b[0m \u001b[0midx\u001b[0m \u001b[1;32min\u001b[0m \u001b[0mpossibly_batched_index\u001b[0m\u001b[1;33m]\u001b[0m\u001b[1;33m\u001b[0m\u001b[1;33m\u001b[0m\u001b[0m\n\u001b[0m\u001b[0;32m     45\u001b[0m         \u001b[1;32melse\u001b[0m\u001b[1;33m:\u001b[0m\u001b[1;33m\u001b[0m\u001b[1;33m\u001b[0m\u001b[0m\n\u001b[0;32m     46\u001b[0m             \u001b[0mdata\u001b[0m \u001b[1;33m=\u001b[0m \u001b[0mself\u001b[0m\u001b[1;33m.\u001b[0m\u001b[0mdataset\u001b[0m\u001b[1;33m[\u001b[0m\u001b[0mpossibly_batched_index\u001b[0m\u001b[1;33m]\u001b[0m\u001b[1;33m\u001b[0m\u001b[1;33m\u001b[0m\u001b[0m\n",
      "\u001b[1;32mI:\\Anaconda3\\envs\\hhx\\lib\\site-packages\\torch\\utils\\data\\_utils\\fetch.py\u001b[0m in \u001b[0;36m<listcomp>\u001b[1;34m(.0)\u001b[0m\n\u001b[0;32m     42\u001b[0m     \u001b[1;32mdef\u001b[0m \u001b[0mfetch\u001b[0m\u001b[1;33m(\u001b[0m\u001b[0mself\u001b[0m\u001b[1;33m,\u001b[0m \u001b[0mpossibly_batched_index\u001b[0m\u001b[1;33m)\u001b[0m\u001b[1;33m:\u001b[0m\u001b[1;33m\u001b[0m\u001b[1;33m\u001b[0m\u001b[0m\n\u001b[0;32m     43\u001b[0m         \u001b[1;32mif\u001b[0m \u001b[0mself\u001b[0m\u001b[1;33m.\u001b[0m\u001b[0mauto_collation\u001b[0m\u001b[1;33m:\u001b[0m\u001b[1;33m\u001b[0m\u001b[1;33m\u001b[0m\u001b[0m\n\u001b[1;32m---> 44\u001b[1;33m             \u001b[0mdata\u001b[0m \u001b[1;33m=\u001b[0m \u001b[1;33m[\u001b[0m\u001b[0mself\u001b[0m\u001b[1;33m.\u001b[0m\u001b[0mdataset\u001b[0m\u001b[1;33m[\u001b[0m\u001b[0midx\u001b[0m\u001b[1;33m]\u001b[0m \u001b[1;32mfor\u001b[0m \u001b[0midx\u001b[0m \u001b[1;32min\u001b[0m \u001b[0mpossibly_batched_index\u001b[0m\u001b[1;33m]\u001b[0m\u001b[1;33m\u001b[0m\u001b[1;33m\u001b[0m\u001b[0m\n\u001b[0m\u001b[0;32m     45\u001b[0m         \u001b[1;32melse\u001b[0m\u001b[1;33m:\u001b[0m\u001b[1;33m\u001b[0m\u001b[1;33m\u001b[0m\u001b[0m\n\u001b[0;32m     46\u001b[0m             \u001b[0mdata\u001b[0m \u001b[1;33m=\u001b[0m \u001b[0mself\u001b[0m\u001b[1;33m.\u001b[0m\u001b[0mdataset\u001b[0m\u001b[1;33m[\u001b[0m\u001b[0mpossibly_batched_index\u001b[0m\u001b[1;33m]\u001b[0m\u001b[1;33m\u001b[0m\u001b[1;33m\u001b[0m\u001b[0m\n",
      "\u001b[1;32mI:\\Anaconda3\\envs\\hhx\\lib\\site-packages\\torchvision\\datasets\\cifar.py\u001b[0m in \u001b[0;36m__getitem__\u001b[1;34m(self, index)\u001b[0m\n\u001b[0;32m    118\u001b[0m \u001b[1;33m\u001b[0m\u001b[0m\n\u001b[0;32m    119\u001b[0m         \u001b[1;32mif\u001b[0m \u001b[0mself\u001b[0m\u001b[1;33m.\u001b[0m\u001b[0mtransform\u001b[0m \u001b[1;32mis\u001b[0m \u001b[1;32mnot\u001b[0m \u001b[1;32mNone\u001b[0m\u001b[1;33m:\u001b[0m\u001b[1;33m\u001b[0m\u001b[1;33m\u001b[0m\u001b[0m\n\u001b[1;32m--> 120\u001b[1;33m             \u001b[0mimg\u001b[0m \u001b[1;33m=\u001b[0m \u001b[0mself\u001b[0m\u001b[1;33m.\u001b[0m\u001b[0mtransform\u001b[0m\u001b[1;33m(\u001b[0m\u001b[0mimg\u001b[0m\u001b[1;33m)\u001b[0m\u001b[1;33m\u001b[0m\u001b[1;33m\u001b[0m\u001b[0m\n\u001b[0m\u001b[0;32m    121\u001b[0m \u001b[1;33m\u001b[0m\u001b[0m\n\u001b[0;32m    122\u001b[0m         \u001b[1;32mif\u001b[0m \u001b[0mself\u001b[0m\u001b[1;33m.\u001b[0m\u001b[0mtarget_transform\u001b[0m \u001b[1;32mis\u001b[0m \u001b[1;32mnot\u001b[0m \u001b[1;32mNone\u001b[0m\u001b[1;33m:\u001b[0m\u001b[1;33m\u001b[0m\u001b[1;33m\u001b[0m\u001b[0m\n",
      "\u001b[1;32mI:\\Anaconda3\\envs\\hhx\\lib\\site-packages\\torchvision\\transforms\\transforms.py\u001b[0m in \u001b[0;36m__call__\u001b[1;34m(self, img)\u001b[0m\n\u001b[0;32m     58\u001b[0m     \u001b[1;32mdef\u001b[0m \u001b[0m__call__\u001b[0m\u001b[1;33m(\u001b[0m\u001b[0mself\u001b[0m\u001b[1;33m,\u001b[0m \u001b[0mimg\u001b[0m\u001b[1;33m)\u001b[0m\u001b[1;33m:\u001b[0m\u001b[1;33m\u001b[0m\u001b[1;33m\u001b[0m\u001b[0m\n\u001b[0;32m     59\u001b[0m         \u001b[1;32mfor\u001b[0m \u001b[0mt\u001b[0m \u001b[1;32min\u001b[0m \u001b[0mself\u001b[0m\u001b[1;33m.\u001b[0m\u001b[0mtransforms\u001b[0m\u001b[1;33m:\u001b[0m\u001b[1;33m\u001b[0m\u001b[1;33m\u001b[0m\u001b[0m\n\u001b[1;32m---> 60\u001b[1;33m             \u001b[0mimg\u001b[0m \u001b[1;33m=\u001b[0m \u001b[0mt\u001b[0m\u001b[1;33m(\u001b[0m\u001b[0mimg\u001b[0m\u001b[1;33m)\u001b[0m\u001b[1;33m\u001b[0m\u001b[1;33m\u001b[0m\u001b[0m\n\u001b[0m\u001b[0;32m     61\u001b[0m         \u001b[1;32mreturn\u001b[0m \u001b[0mimg\u001b[0m\u001b[1;33m\u001b[0m\u001b[1;33m\u001b[0m\u001b[0m\n\u001b[0;32m     62\u001b[0m \u001b[1;33m\u001b[0m\u001b[0m\n",
      "\u001b[1;32mI:\\Anaconda3\\envs\\hhx\\lib\\site-packages\\torch\\nn\\modules\\module.py\u001b[0m in \u001b[0;36m_call_impl\u001b[1;34m(self, *input, **kwargs)\u001b[0m\n\u001b[0;32m   1049\u001b[0m         if not (self._backward_hooks or self._forward_hooks or self._forward_pre_hooks or _global_backward_hooks\n\u001b[0;32m   1050\u001b[0m                 or _global_forward_hooks or _global_forward_pre_hooks):\n\u001b[1;32m-> 1051\u001b[1;33m             \u001b[1;32mreturn\u001b[0m \u001b[0mforward_call\u001b[0m\u001b[1;33m(\u001b[0m\u001b[1;33m*\u001b[0m\u001b[0minput\u001b[0m\u001b[1;33m,\u001b[0m \u001b[1;33m**\u001b[0m\u001b[0mkwargs\u001b[0m\u001b[1;33m)\u001b[0m\u001b[1;33m\u001b[0m\u001b[1;33m\u001b[0m\u001b[0m\n\u001b[0m\u001b[0;32m   1052\u001b[0m         \u001b[1;31m# Do not call functions when jit is used\u001b[0m\u001b[1;33m\u001b[0m\u001b[1;33m\u001b[0m\u001b[1;33m\u001b[0m\u001b[0m\n\u001b[0;32m   1053\u001b[0m         \u001b[0mfull_backward_hooks\u001b[0m\u001b[1;33m,\u001b[0m \u001b[0mnon_full_backward_hooks\u001b[0m \u001b[1;33m=\u001b[0m \u001b[1;33m[\u001b[0m\u001b[1;33m]\u001b[0m\u001b[1;33m,\u001b[0m \u001b[1;33m[\u001b[0m\u001b[1;33m]\u001b[0m\u001b[1;33m\u001b[0m\u001b[1;33m\u001b[0m\u001b[0m\n",
      "\u001b[1;32mI:\\Anaconda3\\envs\\hhx\\lib\\site-packages\\torchvision\\transforms\\transforms.py\u001b[0m in \u001b[0;36mforward\u001b[1;34m(self, img)\u001b[0m\n\u001b[0;32m    652\u001b[0m             \u001b[0mPIL\u001b[0m \u001b[0mImage\u001b[0m \u001b[1;32mor\u001b[0m \u001b[0mTensor\u001b[0m\u001b[1;33m:\u001b[0m \u001b[0mRandomly\u001b[0m \u001b[0mflipped\u001b[0m \u001b[0mimage\u001b[0m\u001b[1;33m.\u001b[0m\u001b[1;33m\u001b[0m\u001b[1;33m\u001b[0m\u001b[0m\n\u001b[0;32m    653\u001b[0m         \"\"\"\n\u001b[1;32m--> 654\u001b[1;33m         \u001b[1;32mif\u001b[0m \u001b[0mtorch\u001b[0m\u001b[1;33m.\u001b[0m\u001b[0mrand\u001b[0m\u001b[1;33m(\u001b[0m\u001b[1;36m1\u001b[0m\u001b[1;33m)\u001b[0m \u001b[1;33m<\u001b[0m \u001b[0mself\u001b[0m\u001b[1;33m.\u001b[0m\u001b[0mp\u001b[0m\u001b[1;33m:\u001b[0m\u001b[1;33m\u001b[0m\u001b[1;33m\u001b[0m\u001b[0m\n\u001b[0m\u001b[0;32m    655\u001b[0m             \u001b[1;32mreturn\u001b[0m \u001b[0mF\u001b[0m\u001b[1;33m.\u001b[0m\u001b[0mhflip\u001b[0m\u001b[1;33m(\u001b[0m\u001b[0mimg\u001b[0m\u001b[1;33m)\u001b[0m\u001b[1;33m\u001b[0m\u001b[1;33m\u001b[0m\u001b[0m\n\u001b[0;32m    656\u001b[0m         \u001b[1;32mreturn\u001b[0m \u001b[0mimg\u001b[0m\u001b[1;33m\u001b[0m\u001b[1;33m\u001b[0m\u001b[0m\n",
      "\u001b[1;31mKeyboardInterrupt\u001b[0m: "
     ]
    }
   ],
   "metadata": {}
  },
  {
   "cell_type": "code",
   "execution_count": 53,
   "source": [
    "torch.save(d_net.state_dict(), 'd_net_1')"
   ],
   "outputs": [],
   "metadata": {}
  },
  {
   "cell_type": "code",
   "execution_count": 129,
   "source": [
    "d_net.load_state_dict(torch.load('d_net'))"
   ],
   "outputs": [
    {
     "output_type": "execute_result",
     "data": {
      "text/plain": [
       "<All keys matched successfully>"
      ]
     },
     "metadata": {},
     "execution_count": 129
    }
   ],
   "metadata": {}
  },
  {
   "cell_type": "code",
   "execution_count": 131,
   "source": [
    "d_net(gen_rand_imgs([1, 3, 32, 32]).to(device))"
   ],
   "outputs": [
    {
     "output_type": "execute_result",
     "data": {
      "text/plain": [
       "tensor([0.0819], device='cuda:0', grad_fn=<ViewBackward>)"
      ]
     },
     "metadata": {},
     "execution_count": 131
    }
   ],
   "metadata": {}
  },
  {
   "cell_type": "code",
   "execution_count": 132,
   "source": [
    "img = None\r\n",
    "for _, imgs in enumerate(train_loader):\r\n",
    "  print(imgs[0][24].shape)\r\n",
    "  img = imgs[0][24].reshape(1, 3, 32, 32)\r\n",
    "  break\r\n",
    "\r\n",
    "d_net(img.to(device))"
   ],
   "outputs": [
    {
     "output_type": "stream",
     "name": "stdout",
     "text": [
      "torch.Size([3, 32, 32])\n"
     ]
    },
    {
     "output_type": "execute_result",
     "data": {
      "text/plain": [
       "tensor([1.], device='cuda:0', grad_fn=<ViewBackward>)"
      ]
     },
     "metadata": {},
     "execution_count": 132
    }
   ],
   "metadata": {}
  },
  {
   "cell_type": "code",
   "execution_count": 87,
   "source": [
    "# set_model_freeze(g_net, False)\r\n",
    "# set_model_freeze(d_net, True)"
   ],
   "outputs": [],
   "metadata": {}
  },
  {
   "cell_type": "code",
   "execution_count": 160,
   "source": [
    "epoch_num = 10000\r\n",
    "lr = 1e-3\r\n",
    "criterion = nn.BCELoss()\r\n",
    "optimizer = torch.optim.Adam(g_net.parameters(), lr = lr)"
   ],
   "outputs": [],
   "metadata": {}
  },
  {
   "cell_type": "code",
   "execution_count": 161,
   "source": [
    "def test_generator_efficiency():\r\n",
    "  d_net.eval()\r\n",
    "  g_net.eval()\r\n",
    "  fake_imgs = gen_rand_imgs([64,3,32,32]).to(device)\r\n",
    "  fake_lbls = gen_labels(64, 1).to(device)\r\n",
    "  fake_imgs = g_net(fake_imgs)\r\n",
    "  fake_preds = d_net(fake_imgs)\r\n",
    "\r\n",
    "  fake_preds = torch.round(fake_preds)\r\n",
    "  d_net.train()\r\n",
    "  g_net.train()\r\n",
    "  return torch.sum(fake_preds == fake_lbls).item() / 64"
   ],
   "outputs": [],
   "metadata": {}
  },
  {
   "cell_type": "code",
   "execution_count": 162,
   "source": [
    "test_generator_efficiency()"
   ],
   "outputs": [
    {
     "output_type": "execute_result",
     "data": {
      "text/plain": [
       "0.0"
      ]
     },
     "metadata": {},
     "execution_count": 162
    }
   ],
   "metadata": {}
  },
  {
   "cell_type": "code",
   "execution_count": 163,
   "source": [
    "optimizer.zero_grad()\r\n",
    "for epoch in range(1, epoch_num + 1):\r\n",
    "  fake_imgs = gen_rand_imgs([64,3,32,32]).to(device)\r\n",
    "  fake_lbls = gen_labels(64, 1).to(device)\r\n",
    "  d_net.train()\r\n",
    "  g_net.train()\r\n",
    "  fake_imgs = g_net(fake_imgs)\r\n",
    "  fake_preds = d_net(fake_imgs)\r\n",
    "  loss = criterion(fake_preds, fake_lbls.type(torch.float))\r\n",
    "\r\n",
    "  optimizer.zero_grad()\r\n",
    "  loss.backward()\r\n",
    "  optimizer.step()\r\n",
    "  if epoch % 100 == 0:\r\n",
    "    print(epoch)\r\n",
    "    print(fake_preds[:10])\r\n",
    "    print('loss: ', loss.item(), 'accuracy: ', test_generator_efficiency())\r\n",
    "  \r\n"
   ],
   "outputs": [
    {
     "output_type": "stream",
     "name": "stdout",
     "text": [
      "100\n",
      "tensor([1., 1., 1., 1., 1., 1., 1., 1., 1., 1.], device='cuda:0',\n",
      "       grad_fn=<SliceBackward>)\n",
      "loss:  0.0 accuracy:  1.0\n"
     ]
    },
    {
     "output_type": "error",
     "ename": "KeyboardInterrupt",
     "evalue": "",
     "traceback": [
      "\u001b[1;31m---------------------------------------------------------------------------\u001b[0m",
      "\u001b[1;31mKeyboardInterrupt\u001b[0m                         Traceback (most recent call last)",
      "\u001b[1;32m<ipython-input-163-6518c4a30573>\u001b[0m in \u001b[0;36m<module>\u001b[1;34m\u001b[0m\n\u001b[0;32m      1\u001b[0m \u001b[0moptimizer\u001b[0m\u001b[1;33m.\u001b[0m\u001b[0mzero_grad\u001b[0m\u001b[1;33m(\u001b[0m\u001b[1;33m)\u001b[0m\u001b[1;33m\u001b[0m\u001b[1;33m\u001b[0m\u001b[0m\n\u001b[0;32m      2\u001b[0m \u001b[1;32mfor\u001b[0m \u001b[0mepoch\u001b[0m \u001b[1;32min\u001b[0m \u001b[0mrange\u001b[0m\u001b[1;33m(\u001b[0m\u001b[1;36m1\u001b[0m\u001b[1;33m,\u001b[0m \u001b[0mepoch_num\u001b[0m \u001b[1;33m+\u001b[0m \u001b[1;36m1\u001b[0m\u001b[1;33m)\u001b[0m\u001b[1;33m:\u001b[0m\u001b[1;33m\u001b[0m\u001b[1;33m\u001b[0m\u001b[0m\n\u001b[1;32m----> 3\u001b[1;33m   \u001b[0mfake_imgs\u001b[0m \u001b[1;33m=\u001b[0m \u001b[0mgen_rand_imgs\u001b[0m\u001b[1;33m(\u001b[0m\u001b[1;33m[\u001b[0m\u001b[1;36m64\u001b[0m\u001b[1;33m,\u001b[0m\u001b[1;36m3\u001b[0m\u001b[1;33m,\u001b[0m\u001b[1;36m32\u001b[0m\u001b[1;33m,\u001b[0m\u001b[1;36m32\u001b[0m\u001b[1;33m]\u001b[0m\u001b[1;33m)\u001b[0m\u001b[1;33m.\u001b[0m\u001b[0mto\u001b[0m\u001b[1;33m(\u001b[0m\u001b[0mdevice\u001b[0m\u001b[1;33m)\u001b[0m\u001b[1;33m\u001b[0m\u001b[1;33m\u001b[0m\u001b[0m\n\u001b[0m\u001b[0;32m      4\u001b[0m   \u001b[0mfake_lbls\u001b[0m \u001b[1;33m=\u001b[0m \u001b[0mgen_labels\u001b[0m\u001b[1;33m(\u001b[0m\u001b[1;36m64\u001b[0m\u001b[1;33m,\u001b[0m \u001b[1;36m1\u001b[0m\u001b[1;33m)\u001b[0m\u001b[1;33m.\u001b[0m\u001b[0mto\u001b[0m\u001b[1;33m(\u001b[0m\u001b[0mdevice\u001b[0m\u001b[1;33m)\u001b[0m\u001b[1;33m\u001b[0m\u001b[1;33m\u001b[0m\u001b[0m\n\u001b[0;32m      5\u001b[0m   \u001b[0md_net\u001b[0m\u001b[1;33m.\u001b[0m\u001b[0mtrain\u001b[0m\u001b[1;33m(\u001b[0m\u001b[1;33m)\u001b[0m\u001b[1;33m\u001b[0m\u001b[1;33m\u001b[0m\u001b[0m\n",
      "\u001b[1;31mKeyboardInterrupt\u001b[0m: "
     ]
    }
   ],
   "metadata": {}
  },
  {
   "cell_type": "code",
   "execution_count": 151,
   "source": [
    "img_gtest = gen_rand_imgs([1,3,32,32])\r\n",
    "plt.imshow(img_gtest[0].permute(1,2,0))"
   ],
   "outputs": [
    {
     "output_type": "execute_result",
     "data": {
      "text/plain": [
       "<matplotlib.image.AxesImage at 0x1dfdbc09b08>"
      ]
     },
     "metadata": {},
     "execution_count": 151
    },
    {
     "output_type": "display_data",
     "data": {
      "text/plain": [
       "<Figure size 432x288 with 1 Axes>"
      ],
      "image/png": "[encoded data removed]"
     },
     "metadata": {
      "needs_background": "light"
     }
    }
   ],
   "metadata": {}
  },
  {
   "cell_type": "code",
   "execution_count": 152,
   "source": [
    "img_gtest = img_gtest.to(device)\r\n",
    "img_gtest_out = g_net(img_gtest)\r\n",
    "img_np = img_gtest_out.cpu()[0].permute(1,2,0).detach().numpy()\r\n",
    "plt.imshow(img_np)"
   ],
   "outputs": [
    {
     "output_type": "execute_result",
     "data": {
      "text/plain": [
       "<matplotlib.image.AxesImage at 0x1dfdd1f6bc8>"
      ]
     },
     "metadata": {},
     "execution_count": 152
    },
    {
     "output_type": "display_data",
     "data": {
      "text/plain": [
       "<Figure size 432x288 with 1 Axes>"
      ],
      "image/png": "[encoded data removed]"
     },
     "metadata": {
      "needs_background": "light"
     }
    }
   ],
   "metadata": {}
  },
  {
   "cell_type": "code",
   "execution_count": 153,
   "source": [
    "g_net.state_dict()['fin.weight'][0,0]"
   ],
   "outputs": [
    {
     "output_type": "execute_result",
     "data": {
      "text/plain": [
       "tensor([[-0.0175,  0.0200,  0.0340],\n",
       "        [ 0.0113, -0.0061, -0.0257],\n",
       "        [-0.0150, -0.0018,  0.0293]], device='cuda:0')"
      ]
     },
     "metadata": {},
     "execution_count": 153
    }
   ],
   "metadata": {}
  },
  {
   "cell_type": "code",
   "execution_count": 164,
   "source": [
    "img_gtest_out = g_net(img_gtest)\r\n",
    "img_np = img_gtest_out.cpu()[0].permute(1,2,0).detach().numpy()\r\n",
    "plt.imshow(img_np)"
   ],
   "outputs": [
    {
     "output_type": "execute_result",
     "data": {
      "text/plain": [
       "<matplotlib.image.AxesImage at 0x1dfdb1d7b48>"
      ]
     },
     "metadata": {},
     "execution_count": 164
    },
    {
     "output_type": "display_data",
     "data": {
      "text/plain": [
       "<Figure size 432x288 with 1 Axes>"
      ],
      "image/png": "[encoded data removed]"
     },
     "metadata": {
      "needs_background": "light"
     }
    }
   ],
   "metadata": {}
  },
  {
   "cell_type": "code",
   "execution_count": 165,
   "source": [
    "g_net.state_dict()['fin.weight'][0,0]"
   ],
   "outputs": [
    {
     "output_type": "execute_result",
     "data": {
      "text/plain": [
       "tensor([[-0.0049,  0.0242,  0.0218],\n",
       "        [ 0.0248,  0.0026, -0.0361],\n",
       "        [-0.0005,  0.0086,  0.0256]], device='cuda:0')"
      ]
     },
     "metadata": {},
     "execution_count": 165
    }
   ],
   "metadata": {}
  },
  {
   "cell_type": "code",
   "execution_count": null,
   "source": [],
   "outputs": [],
   "metadata": {}
  }
 ]
}