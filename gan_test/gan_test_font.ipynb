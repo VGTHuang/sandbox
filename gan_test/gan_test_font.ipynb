{
 "cells": [
  {
   "cell_type": "markdown",
   "source": [
    "# gen fonts"
   ],
   "metadata": {}
  },
  {
   "cell_type": "code",
   "execution_count": null,
   "source": [
    "from fontTools.ttLib import TTFont\r\n",
    "from fontTools.pens.basePen import BasePen\r\n",
    "from reportlab.graphics.shapes import Path\r\n",
    "from reportlab.lib import colors\r\n",
    "from reportlab.graphics import renderPM\r\n",
    "from reportlab.graphics.shapes import Group, Drawing, scale"
   ],
   "outputs": [],
   "metadata": {}
  },
  {
   "cell_type": "code",
   "execution_count": null,
   "source": [
    "import numpy as np\r\n",
    "\r\n",
    "import torch\r\n",
    "import torch.nn as nn\r\n",
    "import torch.nn.functional as F\r\n",
    "from torch.autograd import Variable\r\n",
    "from torchvision import datasets\r\n",
    "import torchvision.transforms as transforms\r\n",
    "\r\n",
    "import matplotlib.pyplot as plt\r\n",
    "import matplotlib.image as mpimg\r\n",
    "import os"
   ],
   "outputs": [],
   "metadata": {}
  },
  {
   "cell_type": "code",
   "execution_count": null,
   "source": [
    "class ReportLabPen(BasePen):\r\n",
    " \r\n",
    "  \"\"\"A pen for drawing onto a reportlab.graphics.shapes.Path object.\"\"\"\r\n",
    "\r\n",
    "  def __init__(self, glyphSet, path=None):\r\n",
    "    BasePen.__init__(self, glyphSet)\r\n",
    "    if path is None:\r\n",
    "      path = Path()\r\n",
    "    self.path = path\r\n",
    "\r\n",
    "  def _moveTo(self, p):\r\n",
    "    (x,y) = p\r\n",
    "    self.path.moveTo(x,y)\r\n",
    "\r\n",
    "  def _lineTo(self, p):\r\n",
    "    (x,y) = p\r\n",
    "    self.path.lineTo(x,y)\r\n",
    "\r\n",
    "  def _curveToOne(self, p1, p2, p3):\r\n",
    "    (x1,y1) = p1\r\n",
    "    (x2,y2) = p2\r\n",
    "    (x3,y3) = p3\r\n",
    "    self.path.curveTo(x1, y1, x2, y2, x3, y3)\r\n",
    "\r\n",
    "  def _closePath(self):\r\n",
    "    self.path.closePath()\r\n"
   ],
   "outputs": [],
   "metadata": {}
  },
  {
   "cell_type": "code",
   "execution_count": null,
   "source": [
    "def ttfToImage(fontName,imagePath,fmt=\"png\"):\r\n",
    "    font = TTFont(fontName)\r\n",
    "    gs = font.getGlyphSet()\r\n",
    "    glyphNames = font.getGlyphNames()\r\n",
    "    for i in glyphNames:\r\n",
    "\r\n",
    "        if i.startswith('uni') == False:\r\n",
    "            continue\r\n",
    "        elif int(i[3:7], 16) < 19968 or int(i[3:7], 16) > 40943:\r\n",
    "            continue\r\n",
    "        \r\n",
    "        g = gs[i]\r\n",
    "        pen = ReportLabPen(gs, Path(fillColor=colors.black))\r\n",
    "        g.draw(pen)\r\n",
    "        w=128\r\n",
    "        h=128\r\n",
    "        g = Group(pen.path)\r\n",
    "        g.translate(0, 26)\r\n",
    "        g.scale(0.125, 0.125)\r\n",
    "        \r\n",
    "        d = Drawing(w, h)\r\n",
    "        d.add(g)\r\n",
    "        imageFile = imagePath+\"/\"+i+\".png\"\r\n",
    "        renderPM.drawToFile(d, imageFile, fmt)\r\n",
    "        print(i + ' ', end='')\r\n"
   ],
   "outputs": [],
   "metadata": {}
  },
  {
   "cell_type": "code",
   "execution_count": null,
   "source": [
    "# ttfToImage(fontName=\"STZHONGS.TTF\", imagePath=\"fonts\")"
   ],
   "outputs": [],
   "metadata": {}
  },
  {
   "cell_type": "code",
   "execution_count": null,
   "source": [
    "font_png_list = os.listdir('fonts')"
   ],
   "outputs": [],
   "metadata": {}
  },
  {
   "cell_type": "code",
   "execution_count": null,
   "source": [
    "len(a)"
   ],
   "outputs": [],
   "metadata": {}
  },
  {
   "cell_type": "code",
   "execution_count": null,
   "source": [
    "font_nps = []\r\n",
    "c = 0\r\n",
    "for i in font_png_list:\r\n",
    "  font_np = mpimg.imread('fonts/' + i)\r\n",
    "  font_nps.append(font_np[:,:,0])\r\n",
    "  c += 1\r\n",
    "  if c % 100 == 0:\r\n",
    "    print(c)"
   ],
   "outputs": [],
   "metadata": {}
  },
  {
   "cell_type": "code",
   "execution_count": null,
   "source": [
    "len(font_nps)"
   ],
   "outputs": [],
   "metadata": {}
  },
  {
   "cell_type": "code",
   "execution_count": null,
   "source": [
    "plt.imshow(font_nps[2].astype(np.int8))"
   ],
   "outputs": [],
   "metadata": {}
  },
  {
   "cell_type": "code",
   "execution_count": null,
   "source": [
    "font_nps = np.array(font_nps)"
   ],
   "outputs": [],
   "metadata": {}
  },
  {
   "cell_type": "code",
   "execution_count": null,
   "source": [
    "np.save('STZHONGS', font_nps.astype(np.int8))"
   ],
   "outputs": [],
   "metadata": {}
  },
  {
   "cell_type": "markdown",
   "source": [
    "# GAN"
   ],
   "metadata": {}
  },
  {
   "cell_type": "code",
   "execution_count": 3,
   "source": [
    "import numpy as np\r\n",
    "\r\n",
    "import torch\r\n",
    "import torch.nn as nn\r\n",
    "import torch.nn.functional as F\r\n",
    "from torch.utils.data  import Dataset\r\n",
    "from torch.autograd import Variable\r\n",
    "import torchvision.transforms as transforms\r\n",
    "\r\n",
    "import matplotlib.pyplot as plt\r\n",
    "import matplotlib.image as mpimg\r\n",
    "import os"
   ],
   "outputs": [],
   "metadata": {}
  },
  {
   "cell_type": "code",
   "execution_count": 4,
   "source": [
    "device = torch.device('cuda' if torch.cuda.is_available() else 'cpu')"
   ],
   "outputs": [],
   "metadata": {}
  },
  {
   "cell_type": "code",
   "execution_count": 5,
   "source": [
    "class FontDataset(Dataset):\r\n",
    "  def __init__(self):\r\n",
    "    self.fonts_arr = None\r\n",
    "    self.fonts_arr = np.load('STZHONGS.npy')\r\n",
    "\r\n",
    "  def __getitem__(self, idx):\r\n",
    "    font_np = self.fonts_arr[idx]\r\n",
    "    return torch.from_numpy(font_np).type(torch.float32)\r\n",
    "\r\n",
    "  def __len__(self):\r\n",
    "    return len(self.fonts_arr)"
   ],
   "outputs": [],
   "metadata": {}
  },
  {
   "cell_type": "code",
   "execution_count": 6,
   "source": [
    "font_dataset = FontDataset()"
   ],
   "outputs": [],
   "metadata": {}
  },
  {
   "cell_type": "code",
   "execution_count": 11,
   "source": [
    "bs = 32\r\n",
    "font_loader = torch.utils.data.DataLoader(dataset=font_dataset, batch_size=bs, shuffle=True)"
   ],
   "outputs": [],
   "metadata": {}
  },
  {
   "cell_type": "code",
   "execution_count": 12,
   "source": [
    "def img_show(img):\r\n",
    "  plt.xticks([])\r\n",
    "  plt.yticks([])\r\n",
    "  plt.imshow(img)"
   ],
   "outputs": [],
   "metadata": {}
  },
  {
   "cell_type": "code",
   "execution_count": 13,
   "source": [
    "z_dim = 100\r\n",
    "\r\n",
    "def gen_fake_inputs(batch):\r\n",
    "  return Variable(torch.randn(batch, z_dim).to(device))\r\n",
    "\r\n",
    "def gen_labels(batch, value):\r\n",
    "  return Variable((torch.zeros(batch, 1) + value).to(device))"
   ],
   "outputs": [],
   "metadata": {}
  },
  {
   "cell_type": "code",
   "execution_count": 14,
   "source": [
    "def write_to_log(msg):\r\n",
    "  with open('font_log.txt', 'a') as f:\r\n",
    "    f.write(msg + '\\n')"
   ],
   "outputs": [],
   "metadata": {}
  },
  {
   "cell_type": "code",
   "execution_count": 41,
   "source": [
    "class Generator(nn.Module):\r\n",
    "  def __init__(self, g_input_dim):\r\n",
    "    super(Generator, self).__init__()\r\n",
    "    self.fc = nn.Linear(g_input_dim, 8*8*128)\r\n",
    "    \r\n",
    "    self.up1 = self._gen_seq(128, 128)\r\n",
    "    self.up2 = self._gen_seq(128, 128)\r\n",
    "    self.up3 = self._gen_seq(128, 64)\r\n",
    "    self.up4 = self._gen_seq(64, 64)\r\n",
    "    self.fin_conv = nn.Conv2d(64, 1, 3, padding=1)\r\n",
    "  \r\n",
    "  def _gen_seq(self, in_channels, out_channels):\r\n",
    "    return nn.Sequential(\r\n",
    "      nn.ConvTranspose2d(in_channels, out_channels, kernel_size=3, padding=1),\r\n",
    "      nn.BatchNorm2d(out_channels),\r\n",
    "      nn.Upsample(scale_factor=2),\r\n",
    "      nn.LeakyReLU(0.2)\r\n",
    "    )\r\n",
    "\r\n",
    "  # forward method\r\n",
    "  def forward(self, x):\r\n",
    "    x = F.leaky_relu(self.fc(x))\r\n",
    "    x = x.reshape(-1, 128, 8, 8)\r\n",
    "    x = self.up1(x)\r\n",
    "    x = self.up2(x)\r\n",
    "    x = self.up3(x)\r\n",
    "    x = self.up4(x)\r\n",
    "    return torch.tanh(self.fin_conv(x))\r\n",
    "\r\n",
    "class Discriminator(nn.Module):\r\n",
    "  def __init__(self):\r\n",
    "    super(Discriminator, self).__init__()\r\n",
    "    self.down1 = self._gen_seq(1, 32)\r\n",
    "    self.down2 = self._gen_seq(32, 32)\r\n",
    "    self.down3 = self._gen_seq(32, 64)\r\n",
    "    self.down4 = self._gen_seq(64, 64)\r\n",
    "    self.fc1 = nn.Linear(8*8*64, 1)\r\n",
    "\r\n",
    "  def _gen_seq(self, in_channels, out_channels):\r\n",
    "    return nn.Sequential(\r\n",
    "      nn.Conv2d(in_channels, out_channels, kernel_size=3, padding=1),\r\n",
    "      nn.BatchNorm2d(out_channels),\r\n",
    "      nn.MaxPool2d(2),\r\n",
    "      nn.LeakyReLU()\r\n",
    "    )\r\n",
    "\r\n",
    "  def forward(self, x):\r\n",
    "    x = self.down1(x)\r\n",
    "    x = self.down2(x)\r\n",
    "    x = self.down3(x)\r\n",
    "    x = self.down4(x)\r\n",
    "\r\n",
    "    x = x.view(-1, 64*8*8)\r\n",
    "    x = self.fc1(x)\r\n",
    "    x = torch.sigmoid(x)\r\n",
    "    return x"
   ],
   "outputs": [],
   "metadata": {}
  },
  {
   "cell_type": "code",
   "execution_count": 42,
   "source": [
    "G = Generator(g_input_dim = z_dim).to(device)\r\n",
    "D = Discriminator().to(device)"
   ],
   "outputs": [],
   "metadata": {}
  },
  {
   "cell_type": "code",
   "execution_count": 43,
   "source": [
    "# loss\r\n",
    "criterion = nn.BCELoss()\r\n",
    "\r\n",
    "# optimizer\r\n",
    "g_lr = 0.0002\r\n",
    "d_lr = 0.0001\r\n",
    "G_optimizer = torch.optim.Adam(G.parameters(), lr = g_lr)\r\n",
    "D_optimizer = torch.optim.Adam(D.parameters(), lr = d_lr)"
   ],
   "outputs": [],
   "metadata": {}
  },
  {
   "cell_type": "code",
   "execution_count": 44,
   "source": [
    "def D_train(x):\r\n",
    "  #=======================Train the discriminator=======================#\r\n",
    "  D.zero_grad()\r\n",
    "\r\n",
    "  # train discriminator on real\r\n",
    "  _bs = x.shape[0]\r\n",
    "  x_real, y_real = x, gen_labels(_bs, 1)\r\n",
    "\r\n",
    "  D_output = D(x_real)\r\n",
    "  D_real_loss = criterion(D_output, y_real)\r\n",
    "\r\n",
    "  # train discriminator on fake\r\n",
    "  z = gen_fake_inputs(_bs)\r\n",
    "  x_fake, y_fake = G(z), gen_labels(_bs, 0)\r\n",
    "\r\n",
    "  D_output = D(x_fake)\r\n",
    "  D_fake_loss = criterion(D_output, y_fake)\r\n",
    "\r\n",
    "  # gradient backprop & optimize ONLY D's parameters\r\n",
    "  D_loss = D_real_loss + D_fake_loss\r\n",
    "  D_loss.backward()\r\n",
    "  D_optimizer.step()\r\n",
    "      \r\n",
    "  return  D_loss.data.item()\r\n",
    "\r\n",
    "def G_train():\r\n",
    "  #=======================Train the generator=======================#\r\n",
    "  G.zero_grad()\r\n",
    "\r\n",
    "  z = gen_fake_inputs(bs)\r\n",
    "  y = gen_labels(bs, 1)\r\n",
    "\r\n",
    "  G_output = G(z)\r\n",
    "  D_output = D(G_output)\r\n",
    "  G_loss = criterion(D_output, y)\r\n",
    "\r\n",
    "  # gradient backprop & optimize ONLY G's parameters\r\n",
    "  G_loss.backward()\r\n",
    "  G_optimizer.step()\r\n",
    "      \r\n",
    "  return G_loss.data.item()"
   ],
   "outputs": [],
   "metadata": {}
  },
  {
   "cell_type": "code",
   "execution_count": 45,
   "source": [
    "fake_len = 12\r\n",
    "fake_inputs = gen_fake_inputs(fake_len)\r\n",
    "fake_inputs = gen_fake_inputs(fake_len)\r\n",
    "\r\n",
    "def gen_fake_img():\r\n",
    "  plt.figure(figsize=(5, 1.6))\r\n",
    "  b = G(fake_inputs)\r\n",
    "  for i in range(0, fake_len):\r\n",
    "    b_n = b[i].cpu().detach()[0]\r\n",
    "    plt.subplot(2, int(fake_len / 2), i+1)\r\n",
    "    img_show(b_n)\r\n",
    "  plt.show()"
   ],
   "outputs": [],
   "metadata": {}
  },
  {
   "cell_type": "code",
   "execution_count": 46,
   "source": [
    "def test_fake_efficiency(is_round = False):\r\n",
    "  e = 10\r\n",
    "  s = 0\r\n",
    "  for i in range(e):\r\n",
    "    a = gen_fake_inputs(bs)\r\n",
    "    b = G(a)\r\n",
    "    D_output = D(b)\r\n",
    "    if is_round:\r\n",
    "      D_output = torch.round(D_output)\r\n",
    "    D_true = torch.sum(D_output).item() / bs\r\n",
    "    s += D_true\r\n",
    "  return s / e"
   ],
   "outputs": [],
   "metadata": {}
  },
  {
   "cell_type": "code",
   "execution_count": 47,
   "source": [
    "gen_fake_img()"
   ],
   "outputs": [
    {
     "output_type": "display_data",
     "data": {
      "text/plain": [
       "<Figure size 360x115.2 with 12 Axes>"
      ],
      "image/png": "[encoded data removed]"
     },
     "metadata": {}
    }
   ],
   "metadata": {}
  },
  {
   "cell_type": "code",
   "execution_count": 48,
   "source": [
    "test_fake_efficiency()"
   ],
   "outputs": [
    {
     "output_type": "execute_result",
     "data": {
      "text/plain": [
       "0.40724853575229647"
      ]
     },
     "metadata": {},
     "execution_count": 48
    }
   ],
   "metadata": {}
  },
  {
   "cell_type": "code",
   "execution_count": 49,
   "source": [
    "n_epoch = 200\r\n",
    "d_error_rate = 1\r\n",
    "\r\n",
    "\r\n",
    "for epoch in range(1, n_epoch+1):\r\n",
    "  D_losses, G_losses = [], []\r\n",
    "  for batch_idx, x in enumerate(font_loader):\r\n",
    "    x = x.unsqueeze(1)\r\n",
    "    x = Variable(x.to(device))\r\n",
    "\r\n",
    "    if batch_idx % 12 == 0:\r\n",
    "      print('|', end='')\r\n",
    "    \r\n",
    "    D_losses.append(D_train(x))\r\n",
    "    G_losses.append(G_train())\r\n",
    "\r\n",
    "  ld = 0\r\n",
    "  lg = 0\r\n",
    "  if len(D_losses) > 0:\r\n",
    "    ld = torch.mean(torch.FloatTensor(D_losses))\r\n",
    "  if len(G_losses) > 0:\r\n",
    "    lg = torch.mean(torch.FloatTensor(G_losses))\r\n",
    "\r\n",
    "  print()\r\n",
    "  d_error_rate = test_fake_efficiency()\r\n",
    "  d_error_rate_round = test_fake_efficiency(True)\r\n",
    "  msg = '[%d/%d]: loss_d: %.3f, loss_g: %.3f, d_error: %.6f, d_error_round: %.3f' % (\r\n",
    "    (epoch), n_epoch, ld, lg, d_error_rate, d_error_rate_round)\r\n",
    "  write_to_log(msg)\r\n",
    "  print(msg)\r\n",
    "\r\n",
    "  torch.save(G.state_dict(), 'font_generator_1.pth')\r\n",
    "  torch.save(D.state_dict(), 'font_discriminator_1.pth')\r\n",
    "  \r\n",
    "  gen_fake_img()"
   ],
   "outputs": [
    {
     "output_type": "stream",
     "name": "stdout",
     "text": [
      "||||"
     ]
    }
   ],
   "metadata": {}
  },
  {
   "cell_type": "code",
   "execution_count": null,
   "source": [],
   "outputs": [],
   "metadata": {}
  }
 ],
 "metadata": {
  "orig_nbformat": 4,
  "language_info": {
   "name": "python"
  }
 },
 "nbformat": 4,
 "nbformat_minor": 2
}