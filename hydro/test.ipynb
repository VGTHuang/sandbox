{
 "cells": [
  {
   "cell_type": "code",
   "execution_count": 1,
   "metadata": {},
   "outputs": [
    {
     "name": "stderr",
     "output_type": "stream",
     "text": [
      "I:\\Anaconda3\\envs\\hhx\\lib\\site-packages\\numpy\\_distributor_init.py:32: UserWarning: loaded more than 1 DLL from .libs:\n",
      "I:\\Anaconda3\\envs\\hhx\\lib\\site-packages\\numpy\\.libs\\libopenblas.GK7GX5KEQ4F6UYO3P26ULGBQYHGQO7J4.gfortran-win_amd64.dll\n",
      "I:\\Anaconda3\\envs\\hhx\\lib\\site-packages\\numpy\\.libs\\libopenblas.XWYDX2IKJW2NMTWSFYNGFUWKQU3LYTCZ.gfortran-win_amd64.dll\n",
      "  stacklevel=1)\n"
     ]
    }
   ],
   "source": [
    "import numpy as np\n",
    "import torch\n",
    "import torch.nn as nn\n",
    "import torch.nn.functional as F\n",
    "from torch.utils.data import Dataset, DataLoader\n",
    "\n",
    "import matplotlib.pyplot as plt\n",
    "\n",
    "import consts as CONSTS\n",
    "import utils as UTILS\n",
    "import hydronet as NET\n",
    "import datamanager as DataManager"
   ]
  },
  {
   "cell_type": "code",
   "execution_count": 2,
   "metadata": {},
   "outputs": [],
   "source": [
    "# load data\n",
    "train_test_ratio = 0.8\n",
    "train_set = DataManager.HydroDataset('norm_data.npy', is_training=True, train_test_ratio=train_test_ratio)\n",
    "test_set = DataManager.HydroDataset('norm_data.npy', is_training=False, train_test_ratio=train_test_ratio)"
   ]
  },
  {
   "cell_type": "code",
   "execution_count": 3,
   "metadata": {},
   "outputs": [],
   "source": [
    "input, output = test_set[0]"
   ]
  },
  {
   "cell_type": "code",
   "execution_count": 7,
   "metadata": {},
   "outputs": [
    {
     "data": {
      "text/plain": [
       "<matplotlib.image.AxesImage at 0x257b72e6bc8>"
      ]
     },
     "execution_count": 7,
     "metadata": {},
     "output_type": "execute_result"
    },
    {
     "data": {
      "image/png": "[encoded data removed]",
      "text/plain": [
       "<Figure size 432x288 with 1 Axes>"
      ]
     },
     "metadata": {
      "needs_background": "light"
     },
     "output_type": "display_data"
    }
   ],
   "source": [
    "plt.imshow(input, vmin=0, vmax=1)"
   ]
  },
  {
   "cell_type": "code",
   "execution_count": 10,
   "metadata": {},
   "outputs": [],
   "source": [
    "def load_model(dict_path):\n",
    "    net = NET.HydroNetCNNLSTMAM(input_channel=13, conv_channel=32, conv_filter_sizes=[1,3], lstm_hidden_channel=32, lstm_layers=2, bidirectional=True)\n",
    "    net.load_state_dict(\n",
    "        torch.load(dict_path, map_location=torch.device('cpu'))\n",
    "    )\n",
    "    return net"
   ]
  },
  {
   "cell_type": "code",
   "execution_count": 19,
   "metadata": {},
   "outputs": [],
   "source": [
    "model_dict_path = 'net_dict/net_dict_best.pth'\n",
    "net = load_model(model_dict_path)"
   ]
  },
  {
   "cell_type": "code",
   "execution_count": 14,
   "metadata": {},
   "outputs": [],
   "source": [
    "hidden_channels = 12\n",
    "lstm_layers = 3\n",
    "num_directions = 2\n",
    "test_bilstm = nn.LSTM(6, hidden_channels, lstm_layers, batch_first=True, bidirectional=True)\n",
    "with torch.no_grad():\n",
    "    # test_bilstm.weight_hh_l0_reverse += 1\n",
    "    test_bilstm.weight_hh_l1_reverse += 1\n",
    "    # test_bilstm.bias_hh_l0_reverse += 1\n",
    "    test_bilstm.bias_hh_l1_reverse += 1\n",
    "    # test_bilstm.weight_ih_l0_reverse += 1\n",
    "    test_bilstm.weight_ih_l1_reverse += 1\n",
    "    # test_bilstm.bias_ih_l0_reverse += 1\n",
    "    test_bilstm.bias_ih_l1_reverse += 1"
   ]
  },
  {
   "cell_type": "code",
   "execution_count": 20,
   "metadata": {},
   "outputs": [],
   "source": [
    "input = torch.rand(1, 7, 6)\n",
    "# input[:,3:,:] = 1"
   ]
  },
  {
   "cell_type": "code",
   "execution_count": 21,
   "metadata": {},
   "outputs": [],
   "source": [
    "with torch.no_grad():\n",
    "    output, (hn, cn) = test_bilstm(input)"
   ]
  },
  {
   "cell_type": "code",
   "execution_count": 22,
   "metadata": {},
   "outputs": [
    {
     "data": {
      "text/plain": [
       "(torch.Size([1, 7, 24]), torch.Size([6, 1, 12]), torch.Size([6, 1, 12]))"
      ]
     },
     "execution_count": 22,
     "metadata": {},
     "output_type": "execute_result"
    }
   ],
   "source": [
    "output.shape, hn.shape, cn.shape"
   ]
  },
  {
   "cell_type": "code",
   "execution_count": 23,
   "metadata": {},
   "outputs": [
    {
     "data": {
      "text/plain": [
       "<matplotlib.image.AxesImage at 0x257b94aad48>"
      ]
     },
     "execution_count": 23,
     "metadata": {},
     "output_type": "execute_result"
    },
    {
     "data": {
      "image/png": "[encoded data removed]",
      "text/plain": [
       "<Figure size 432x288 with 1 Axes>"
      ]
     },
     "metadata": {
      "needs_background": "light"
     },
     "output_type": "display_data"
    }
   ],
   "source": [
    "plt.imshow(input[0])"
   ]
  },
  {
   "cell_type": "code",
   "execution_count": 24,
   "metadata": {},
   "outputs": [
    {
     "data": {
      "text/plain": [
       "<matplotlib.image.AxesImage at 0x257ba597f08>"
      ]
     },
     "execution_count": 24,
     "metadata": {},
     "output_type": "execute_result"
    },
    {
     "data": {
      "image/png": "[encoded data removed]",
      "text/plain": [
       "<Figure size 432x288 with 1 Axes>"
      ]
     },
     "metadata": {
      "needs_background": "light"
     },
     "output_type": "display_data"
    }
   ],
   "source": [
    "plt.imshow(output[0])"
   ]
  },
  {
   "cell_type": "code",
   "execution_count": 25,
   "metadata": {},
   "outputs": [
    {
     "data": {
      "text/plain": [
       "<matplotlib.image.AxesImage at 0x257ba5feec8>"
      ]
     },
     "execution_count": 25,
     "metadata": {},
     "output_type": "execute_result"
    },
    {
     "data": {
      "image/png": "[encoded data removed]",
      "text/plain": [
       "<Figure size 432x288 with 1 Axes>"
      ]
     },
     "metadata": {
      "needs_background": "light"
     },
     "output_type": "display_data"
    }
   ],
   "source": [
    "plt.imshow(hn[:,0])"
   ]
  },
  {
   "cell_type": "code",
   "execution_count": 221,
   "metadata": {},
   "outputs": [
    {
     "data": {
      "text/plain": [
       "<matplotlib.image.AxesImage at 0x1d664f47b88>"
      ]
     },
     "execution_count": 221,
     "metadata": {},
     "output_type": "execute_result"
    },
    {
     "data": {
      "image/png": "[encoded data removed]",
      "text/plain": [
       "<Figure size 432x288 with 1 Axes>"
      ]
     },
     "metadata": {
      "needs_background": "light"
     },
     "output_type": "display_data"
    }
   ],
   "source": [
    "plt.imshow(hn.view(lstm_layers,-1,hidden_channels*num_directions).permute(1,0,2).transpose(1,2)[0])"
   ]
  },
  {
   "cell_type": "code",
   "execution_count": 222,
   "metadata": {},
   "outputs": [],
   "source": [
    "aa = output\n",
    "bb = hn.view(lstm_layers,-1,hidden_channels*num_directions).permute(1,0,2).transpose(1,2)"
   ]
  },
  {
   "cell_type": "code",
   "execution_count": 223,
   "metadata": {},
   "outputs": [
    {
     "data": {
      "text/plain": [
       "(torch.Size([1, 7, 24]), torch.Size([1, 24, 3]), torch.Size([6, 1, 12]))"
      ]
     },
     "execution_count": 223,
     "metadata": {},
     "output_type": "execute_result"
    }
   ],
   "source": [
    "aa.shape, bb.shape, hn.shape"
   ]
  },
  {
   "cell_type": "code",
   "execution_count": 224,
   "metadata": {},
   "outputs": [
    {
     "data": {
      "text/plain": [
       "torch.Size([1, 7, 3])"
      ]
     },
     "execution_count": 224,
     "metadata": {},
     "output_type": "execute_result"
    }
   ],
   "source": [
    "torch.bmm(aa, bb).shape"
   ]
  },
  {
   "cell_type": "code",
   "execution_count": 225,
   "metadata": {},
   "outputs": [],
   "source": [
    "hidden = hn.permute(1,0,2).reshape(1,-1,lstm_layers)"
   ]
  },
  {
   "cell_type": "code",
   "execution_count": 226,
   "metadata": {},
   "outputs": [],
   "source": [
    "hidden = hn.view(lstm_layers,-1,hidden_channels*num_directions).permute(1,0,2).transpose(1,2)"
   ]
  },
  {
   "cell_type": "code",
   "execution_count": 227,
   "metadata": {},
   "outputs": [
    {
     "data": {
      "text/plain": [
       "<matplotlib.image.AxesImage at 0x1d664fc8d88>"
      ]
     },
     "execution_count": 227,
     "metadata": {},
     "output_type": "execute_result"
    },
    {
     "data": {
      "image/png": "[encoded data removed]",
      "text/plain": [
       "<Figure size 432x288 with 1 Axes>"
      ]
     },
     "metadata": {
      "needs_background": "light"
     },
     "output_type": "display_data"
    }
   ],
   "source": [
    "plt.imshow(hidden[0])"
   ]
  },
  {
   "cell_type": "code",
   "execution_count": 228,
   "metadata": {},
   "outputs": [],
   "source": [
    "attn_weights = torch.bmm(output, hidden)"
   ]
  },
  {
   "cell_type": "code",
   "execution_count": 229,
   "metadata": {},
   "outputs": [
    {
     "data": {
      "text/plain": [
       "torch.Size([1, 7, 3])"
      ]
     },
     "execution_count": 229,
     "metadata": {},
     "output_type": "execute_result"
    }
   ],
   "source": [
    "attn_weights.shape"
   ]
  },
  {
   "cell_type": "code",
   "execution_count": 230,
   "metadata": {},
   "outputs": [
    {
     "data": {
      "text/plain": [
       "<matplotlib.image.AxesImage at 0x1d66503ac88>"
      ]
     },
     "execution_count": 230,
     "metadata": {},
     "output_type": "execute_result"
    },
    {
     "data": {
      "image/png": "[encoded data removed]",
      "text/plain": [
       "<Figure size 432x288 with 1 Axes>"
      ]
     },
     "metadata": {
      "needs_background": "light"
     },
     "output_type": "display_data"
    }
   ],
   "source": [
    "plt.imshow(attn_weights[0])"
   ]
  },
  {
   "cell_type": "code",
   "execution_count": 231,
   "metadata": {},
   "outputs": [],
   "source": [
    "soft_attn_weights = F.softmax(attn_weights, 1)"
   ]
  },
  {
   "cell_type": "code",
   "execution_count": 232,
   "metadata": {},
   "outputs": [
    {
     "data": {
      "text/plain": [
       "<matplotlib.image.AxesImage at 0x1d6650a0b48>"
      ]
     },
     "execution_count": 232,
     "metadata": {},
     "output_type": "execute_result"
    },
    {
     "data": {
      "image/png": "[encoded data removed]",
      "text/plain": [
       "<Figure size 432x288 with 1 Axes>"
      ]
     },
     "metadata": {
      "needs_background": "light"
     },
     "output_type": "display_data"
    }
   ],
   "source": [
    "plt.imshow(soft_attn_weights[0])"
   ]
  },
  {
   "cell_type": "code",
   "execution_count": 233,
   "metadata": {},
   "outputs": [],
   "source": [
    "context = torch.bmm(output.transpose(1, 2), soft_attn_weights)"
   ]
  },
  {
   "cell_type": "code",
   "execution_count": 234,
   "metadata": {},
   "outputs": [
    {
     "data": {
      "text/plain": [
       "torch.Size([1, 24, 3])"
      ]
     },
     "execution_count": 234,
     "metadata": {},
     "output_type": "execute_result"
    }
   ],
   "source": [
    "context.shape"
   ]
  },
  {
   "cell_type": "code",
   "execution_count": null,
   "metadata": {},
   "outputs": [],
   "source": [
    "def attention_net(self, output, hn):\n",
    "    hidden = hn.permute(1,0,2).reshape(1,-1,lstm_layers)\n",
    "    hidden = hn.view(lstm_layers,-1,hidden_channels*num_directions).permute(1,0,2).transpose(1,2)\n",
    "    attn_weights = torch.bmm(output, hidden)\n",
    "    soft_attn_weights = F.softmax(attn_weights, 1)\n",
    "    context = torch.bmm(output.transpose(1, 2), soft_attn_weights)\n",
    "    return context"
   ]
  },
  {
   "cell_type": "code",
   "execution_count": 33,
   "metadata": {},
   "outputs": [],
   "source": [
    "rec = torch.load('performance/rec_model=cla_logr=90_loss=msee.pth')"
   ]
  },
  {
   "cell_type": "code",
   "execution_count": 34,
   "metadata": {},
   "outputs": [
    {
     "data": {
      "text/plain": [
       "[<matplotlib.lines.Line2D at 0x257ba730408>]"
      ]
     },
     "execution_count": 34,
     "metadata": {},
     "output_type": "execute_result"
    },
    {
     "data": {
      "image/png": "[encoded data removed]",
      "text/plain": [
       "<Figure size 432x288 with 1 Axes>"
      ]
     },
     "metadata": {
      "needs_background": "light"
     },
     "output_type": "display_data"
    }
   ],
   "source": [
    "plt.plot(rec[:,1])\n",
    "plt.plot(rec[:,3])"
   ]
  },
  {
   "cell_type": "code",
   "execution_count": 26,
   "metadata": {},
   "outputs": [],
   "source": [
    "foo = torch.tensor([0.0780, 0.1375, 0.1090, 0.0645, 0.0255, 0.1160, 0.1845, 0.0685, 0.0480,\n",
    "        0.0110, 0.0425, 0.0445, 0.0640, 0.0990, 0.0800, 0.1705, 0.0905, 0.2240,\n",
    "        0.2100, 0.0905, 0.0750, 0.0635, 0.0515, 0.0395, 0.0585, 0.0910, 0.0865,\n",
    "        0.0785, 0.0645, 0.3460, 0.0750, 0.0745, 0.0855, 0.0670, 0.0535, 0.0505,\n",
    "        0.0655, 0.1020, 0.0730, 0.0385, 0.0865, 0.1575, 0.1285, 0.0720, 0.1445,\n",
    "        0.1095, 0.0835, 0.0600, 0.0955, 0.0985, 0.0820, 0.0595, 0.0420, 0.1530,\n",
    "        0.2300, 0.1535, 0.1730, 0.0960, 0.0685, 0.0605, 0.0850, 0.0990, 0.0820,\n",
    "        0.0915, 0.1825, 0.2085, 0.1260, 0.0860, 0.0725, 0.0695, 0.0585, 0.0535,\n",
    "        0.0865, 0.0955, 0.0775, 0.0570, 0.0620, 0.1395, 0.3980, 0.3915, 0.6900,\n",
    "        0.1955, 0.1160, 0.0645, 0.0590, 0.0620, 0.0155, 0.0300, 0.0305, 0.0630,\n",
    "        0.2080, 0.0855, 0.0725, 0.0665, 0.0220, 0.0345])"
   ]
  },
  {
   "cell_type": "code",
   "execution_count": 27,
   "metadata": {},
   "outputs": [],
   "source": [
    "bar = torch.tensor([0.0409, 0.0545, 0.0909, 0.0810, 0.0668, 0.0666, 0.1513, 0.1717, 0.1431,\n",
    "        0.0869, 0.0553, 0.0384, 0.0318, 0.0410, 0.0720, 0.0616, 0.0630, 0.0865,\n",
    "        0.1940, 0.2108, 0.1846, 0.0884, 0.0690, 0.0483, 0.0500, 0.0713, 0.0921,\n",
    "        0.0739, 0.0778, 0.0939, 0.2089, 0.2064, 0.1734, 0.1100, 0.0678, 0.0459,\n",
    "        0.0404, 0.0531, 0.0872, 0.0547, 0.0464, 0.0477, 0.1461, 0.1532, 0.1231,\n",
    "        0.0721, 0.0435, 0.0266, 0.0245, 0.0338, 0.0626, 0.0445, 0.0485, 0.0560,\n",
    "        0.1654, 0.1697, 0.1476, 0.1278, 0.0624, 0.0391, 0.0375, 0.0530, 0.0737,\n",
    "        0.0591, 0.0560, 0.0804, 0.1559, 0.1754, 0.1237, 0.0756, 0.0533, 0.0369,\n",
    "        0.0380, 0.0540, 0.0767, 0.0691, 0.0644, 0.0765, 0.1821, 0.1847, 0.1747,\n",
    "        0.1565, 0.1409, 0.0580, 0.0405, 0.0459, 0.0563, 0.0390, 0.0266, 0.0331,\n",
    "        0.0996, 0.1177, 0.1174, 0.0624, 0.0386, 0.0211])"
   ]
  },
  {
   "cell_type": "code",
   "execution_count": 30,
   "metadata": {},
   "outputs": [
    {
     "data": {
      "text/plain": [
       "tensor(0.0519)"
      ]
     },
     "execution_count": 30,
     "metadata": {},
     "output_type": "execute_result"
    }
   ],
   "source": [
    "torch.abs((bar - foo)).mean()"
   ]
  },
  {
   "cell_type": "code",
   "execution_count": null,
   "metadata": {},
   "outputs": [],
   "source": []
  }
 ],
 "metadata": {
  "interpreter": {
   "hash": "69507ecfbffb7ea85b8b1a4eb5cf1f8f8e456e23eadb5e918e59f77df98ee16d"
  },
  "kernelspec": {
   "display_name": "Python 3.7.10 ('hhx')",
   "language": "python",
   "name": "python3"
  },
  "language_info": {
   "codemirror_mode": {
    "name": "ipython",
    "version": 3
   },
   "file_extension": ".py",
   "mimetype": "text/x-python",
   "name": "python",
   "nbconvert_exporter": "python",
   "pygments_lexer": "ipython3",
   "version": "3.7.10"
  },
  "orig_nbformat": 4
 },
 "nbformat": 4,
 "nbformat_minor": 2
}
